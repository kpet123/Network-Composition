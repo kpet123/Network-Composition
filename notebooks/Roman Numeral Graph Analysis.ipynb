{
 "cells": [
  {
   "cell_type": "markdown",
   "metadata": {},
   "source": [
    "# Load Data"
   ]
  },
  {
   "cell_type": "code",
   "execution_count": 4,
   "metadata": {},
   "outputs": [],
   "source": [
    "import music21\n",
    "import networkx as nx\n",
    "import matplotlib.pyplot as plt\n",
    "import numpy as np\n",
    "import mnet"
   ]
  },
  {
   "cell_type": "markdown",
   "metadata": {},
   "source": [
    "Create path to access local files"
   ]
  },
  {
   "cell_type": "code",
   "execution_count": 5,
   "metadata": {},
   "outputs": [
    {
     "name": "stderr",
     "output_type": "stream",
     "text": [
      "/opt/anaconda3/envs/music-network-env/lib/python3.7/site-packages/music21/corpus/corpora.py: WARNING: local metadata cache: starting processing of paths: 1\n",
      "/opt/anaconda3/envs/music-network-env/lib/python3.7/site-packages/music21/corpus/corpora.py: WARNING: cache: filename: /var/folders/j6/2q7hftds7vb8_lsfy50l8lzw0000gn/T/music21/local.p.gz\n",
      "bundles.py: WARNING: MetadataBundle Modification Time: 1588214723.1700509\n",
      "bundles.py: WARNING: Skipped 1 sources already in cache.\n",
      "/opt/anaconda3/envs/music-network-env/lib/python3.7/site-packages/music21/corpus/corpora.py: WARNING: cache: writing time: 0.011 md items: 3\n",
      "\n",
      "/opt/anaconda3/envs/music-network-env/lib/python3.7/site-packages/music21/corpus/corpora.py: WARNING: cache: filename: /var/folders/j6/2q7hftds7vb8_lsfy50l8lzw0000gn/T/music21/local.p.gz\n",
      "caching.py: WARNING: cache: final writing time: 0.011 seconds\n"
     ]
    }
   ],
   "source": [
    "'''\n",
    "Creat local corpus with access pieces\n",
    "'''\n",
    "\n",
    "localCorpus = music21.corpus.corpora.LocalCorpus()\n",
    "localCorpus.addPath('../library')\n",
    "music21.corpus.cacheMetadata()"
   ]
  },
  {
   "cell_type": "markdown",
   "metadata": {},
   "source": [
    "Save Telemann Fantasie No. 1 as a stream object"
   ]
  },
  {
   "cell_type": "code",
   "execution_count": 6,
   "metadata": {},
   "outputs": [],
   "source": [
    "def convert_chord_note(chord_lst, key):\n",
    "    \n",
    "    nodelst=[]\n",
    "    for chord in chord_lst:\n",
    "        #extract melody\n",
    "        mel = max(chord.pitches)\n",
    "        #extract harmony\n",
    "        harm = chord.remove(mel)\n",
    "        rn = music21.roman.romanNumeralFromChord(chord, music21.key.Key(key))\n",
    "        rn=str(rn).split()[1]\n",
    "        nodelst.append(str(mel)+\" \"+rn)\n",
    "    return nodelst"
   ]
  },
  {
   "cell_type": "code",
   "execution_count": 7,
   "metadata": {},
   "outputs": [],
   "source": [
    "def str_rn_full(randomwalk):\n",
    "    harmlst=[]\n",
    "    mellst = []\n",
    "    for node in randomwalk:\n",
    "\n",
    "        mel = node.split()[0]\n",
    "        n = music21.note.Note(mel)\n",
    "        n.duration.quarterLength =.5\n",
    "        mellst.append(n)\n",
    "        \n",
    "        harm = node.split()[1]\n",
    "        chord = music21.roman.RomanNumeral(harm, \"A\")\n",
    "        chord.duration.quarterLength =.5\n",
    "        chord.lyric = chord.figure\n",
    "        harmlst.append(chord)\n",
    "    return mellst, harmlst"
   ]
  },
  {
   "cell_type": "markdown",
   "metadata": {},
   "source": [
    "Make Graph"
   ]
  },
  {
   "cell_type": "code",
   "execution_count": 1,
   "metadata": {},
   "outputs": [
    {
     "ename": "NameError",
     "evalue": "name 'music21' is not defined",
     "output_type": "error",
     "traceback": [
      "\u001b[0;31m---------------------------------------------------------------------------\u001b[0m",
      "\u001b[0;31mNameError\u001b[0m                                 Traceback (most recent call last)",
      "\u001b[0;32m<ipython-input-1-0e8cbd3de8a8>\u001b[0m in \u001b[0;36m<module>\u001b[0;34m\u001b[0m\n\u001b[0;32m----> 1\u001b[0;31m \u001b[0ms\u001b[0m \u001b[0;34m=\u001b[0m \u001b[0mmusic21\u001b[0m\u001b[0;34m.\u001b[0m\u001b[0mcorpus\u001b[0m\u001b[0;34m.\u001b[0m\u001b[0mparse\u001b[0m\u001b[0;34m(\u001b[0m\u001b[0;34m'telemannfantasie1.xml'\u001b[0m\u001b[0;34m)\u001b[0m\u001b[0;34m\u001b[0m\u001b[0;34m\u001b[0m\u001b[0m\n\u001b[0m\u001b[1;32m      2\u001b[0m \u001b[0mchord_lst\u001b[0m \u001b[0;34m=\u001b[0m \u001b[0mlist\u001b[0m\u001b[0;34m(\u001b[0m\u001b[0ms\u001b[0m\u001b[0;34m.\u001b[0m\u001b[0mchordify\u001b[0m\u001b[0;34m(\u001b[0m\u001b[0;34m)\u001b[0m\u001b[0;34m.\u001b[0m\u001b[0mrecurse\u001b[0m\u001b[0;34m(\u001b[0m\u001b[0;34m)\u001b[0m\u001b[0;34m.\u001b[0m\u001b[0mnotes\u001b[0m\u001b[0;34m)\u001b[0m\u001b[0;34m\u001b[0m\u001b[0;34m\u001b[0m\u001b[0m\n\u001b[1;32m      3\u001b[0m \u001b[0mnodelst\u001b[0m \u001b[0;34m=\u001b[0m \u001b[0mmnet\u001b[0m\u001b[0;34m.\u001b[0m\u001b[0mconvert_chord_note\u001b[0m\u001b[0;34m(\u001b[0m\u001b[0mchord_lst\u001b[0m\u001b[0;34m,\u001b[0m \u001b[0;34m'A'\u001b[0m\u001b[0;34m)\u001b[0m\u001b[0;34m\u001b[0m\u001b[0;34m\u001b[0m\u001b[0m\n\u001b[1;32m      4\u001b[0m \u001b[0mg_rn\u001b[0m\u001b[0;34m=\u001b[0m\u001b[0mmnet\u001b[0m\u001b[0;34m.\u001b[0m\u001b[0mcreate_graph\u001b[0m\u001b[0;34m(\u001b[0m\u001b[0mnodelst\u001b[0m\u001b[0;34m)\u001b[0m\u001b[0;34m\u001b[0m\u001b[0;34m\u001b[0m\u001b[0m\n\u001b[1;32m      5\u001b[0m \u001b[0;34m\u001b[0m\u001b[0m\n",
      "\u001b[0;31mNameError\u001b[0m: name 'music21' is not defined"
     ]
    }
   ],
   "source": [
    "s = music21.corpus.parse('telemannfantasie1.xml')\n",
    "chord_lst = list(s.chordify().recurse().notes)\n",
    "nodelst = mnet.convert_chord_note(chord_lst, 'A')\n",
    "g_rn=mnet.create_graph(nodelst)\n",
    "\n",
    "#write as .gexf\n",
    "#nx.write_gexf(g_rn, \"rn_composition_notechord.gexf\")\n",
    "\n"
   ]
  },
  {
   "cell_type": "markdown",
   "metadata": {},
   "source": [
    "Random Walk"
   ]
  },
  {
   "cell_type": "code",
   "execution_count": 9,
   "metadata": {},
   "outputs": [],
   "source": [
    "randomwalk=mnet.generate_randomwalk(g_rn)\n",
    "melody_list, harmony_list = str_rn_full(randomwalk)\n",
    "melody_stream = mnet.convert_to_stream(randomwalk, melody_list)\n",
    "\n"
   ]
  },
  {
   "cell_type": "markdown",
   "metadata": {},
   "source": [
    "Write to midi"
   ]
  },
  {
   "cell_type": "code",
   "execution_count": 10,
   "metadata": {},
   "outputs": [
    {
     "data": {
      "text/plain": [
       "'\\n#Write to MIDI \\nfile = melody_stream.write(\\'xml\\', \"melody.xml\")\\nharmony_stream = mnet.convert_to_stream(randomwalk, harmony_list)\\nfull=music21.stream.Stream()\\nfull.insert(melody_stream)\\nfull.insert(harmony_stream)\\n\\nfull.write(\\'midi\\', \"fullRomanNumeral.mid\")\\n'"
      ]
     },
     "execution_count": 10,
     "metadata": {},
     "output_type": "execute_result"
    }
   ],
   "source": [
    "'''\n",
    "#Write to MIDI \n",
    "file = melody_stream.write('xml', \"melody.xml\")\n",
    "harmony_stream = mnet.convert_to_stream(randomwalk, harmony_list)\n",
    "full=music21.stream.Stream()\n",
    "full.insert(melody_stream)\n",
    "full.insert(harmony_stream)\n",
    "\n",
    "full.write('midi', \"fullRomanNumeral.mid\")\n",
    "'''"
   ]
  },
  {
   "cell_type": "markdown",
   "metadata": {},
   "source": [
    "## Clustering"
   ]
  },
  {
   "cell_type": "markdown",
   "metadata": {},
   "source": [
    "### InfoMap"
   ]
  },
  {
   "cell_type": "markdown",
   "metadata": {},
   "source": [
    "Write to pajek"
   ]
  },
  {
   "cell_type": "code",
   "execution_count": 17,
   "metadata": {},
   "outputs": [],
   "source": [
    "g_weighted=mnet.convert_to_weighted(g_rn, fraction=False)\n",
    "nx.write_pajek(g_weighted, \"../graphs/rn.net\")"
   ]
  },
  {
   "cell_type": "markdown",
   "metadata": {},
   "source": [
    "Copy weighted graph"
   ]
  },
  {
   "cell_type": "code",
   "execution_count": 25,
   "metadata": {},
   "outputs": [],
   "source": [
    "g_info = g_weighted.copy()"
   ]
  },
  {
   "cell_type": "markdown",
   "metadata": {},
   "source": [
    "Assign 'biggroup' and 'smallgroup' \n",
    ".net.tree file generated from Infomap web app"
   ]
  },
  {
   "cell_type": "code",
   "execution_count": 27,
   "metadata": {},
   "outputs": [
    {
     "name": "stdout",
     "output_type": "stream",
     "text": [
      "C#5 I 1 11\n",
      "A4 I 1 11\n",
      "E5 I 1 11\n",
      "B4 I 1 11\n",
      "A5 I 1 11\n",
      "D5 I 1 11\n",
      "E4 I 1 11\n",
      "G#5 I 1 11\n",
      "D#5 I 1 11\n",
      "F#5 I 1 11\n",
      "G4 I 1 11\n",
      "G#4 I 1 11\n",
      "end 1 11\n",
      "start 1 11\n",
      "D5 IV64 1 12\n",
      "F#5 IV64 1 12\n",
      "C#5 IV64 1 12\n",
      "A5 IV64 1 12\n",
      "A4 IV64 1 12\n",
      "B4 IV64 1 12\n",
      "E5 IV64 1 12\n",
      "G#5 IV64 1 12\n",
      "E5 V6 1 13\n",
      "G#4 V6 1 13\n",
      "E4 V6 1 13\n",
      "B4 V6 1 13\n",
      "D#5 V6 1 13\n",
      "G#5 V6 1 13\n",
      "E3 vii 1 13\n",
      "D5 V6 1 13\n",
      "B5 V6 1 13\n",
      "D#5 II 1 14\n",
      "F#5 II 1 14\n",
      "B4 II 1 14\n",
      "B5 II 1 14\n",
      "E5 II 1 14\n",
      "A4 II 1 14\n",
      "B3 II 1 14\n",
      "D5 V43 1 15\n",
      "C#5 V43 1 15\n",
      "G#4 V43 1 15\n",
      "E5 V43 1 15\n",
      "F#5 V43 1 15\n",
      "E4 V43 1 15\n",
      "B5 V43 1 15\n",
      "G#3 v43 1 15\n",
      "E4 V65 1 16\n",
      "B4 V65 1 16\n",
      "D5 V65 1 16\n",
      "G#4 V65 1 16\n",
      "C#5 V65 1 16\n",
      "D#5 II75#3 1 17\n",
      "F#4 II75#3 1 17\n",
      "F#5 II75#3 1 17\n",
      "B4 II75#3 1 17\n",
      "A5 II75#3 1 17\n",
      "C#5 II75#3 1 17\n",
      "C#5 vi6 1 18\n",
      "F#5 vi6 1 18\n",
      "A5 vi6 1 18\n",
      "G#5 vi6 1 18\n",
      "E5 vi6 1 18\n",
      "B4 vi6 1 18\n",
      "D5 ii 1 19\n",
      "B4 ii 1 19\n",
      "F#5 ii 1 19\n",
      "C#5 ii 1 19\n",
      "E5 V65 1 19\n",
      "B3 ii 1 19\n",
      "E5 ii 1 19\n",
      "E5 Ib753 1 110\n",
      "C#5 Ib753 1 110\n",
      "A4 Ib753 1 110\n",
      "G5 Ib753 1 110\n",
      "A3 I 1 110\n",
      "G3 I 1 110\n",
      "C#5 #ivob64 1 111\n",
      "B4 #ivob64 1 111\n",
      "A4 #ivob64 1 111\n",
      "D#4 #ivob64 1 111\n",
      "A5 #ivob64 1 111\n",
      "D#5 v64 1 112\n",
      "E5 v64 1 112\n",
      "F#5 v64 1 112\n",
      "B5 v64 1 112\n",
      "F#4 ii 1 112\n",
      "A3 II 1 112\n",
      "G5 v64 1 112\n",
      "D4 IV64 1 113\n",
      "F#4 I 1 113\n",
      "B5 IV64 1 113\n",
      "G#5 V7 1 113\n",
      "E4 V7 1 113\n",
      "E5 V7 1 113\n",
      "G#4 iii64 1 114\n",
      "C#5 iii64 1 114\n",
      "E5 iii64 1 114\n",
      "A5 iii64 1 114\n",
      "F#4 vi6 1 114\n",
      "E4 I64 1 115\n",
      "C#5 I64 1 115\n",
      "E5 I64 1 115\n",
      "A5 I64 1 115\n",
      "D#4 II75#3 1 115\n",
      "F#4 II#643 1 116\n",
      "A4 II#643 1 116\n",
      "D#5 II#643 1 116\n",
      "E5 II#643 1 116\n",
      "E4 V64 1 117\n",
      "B4 V64 1 117\n",
      "D#5 V64 1 117\n",
      "E5 V64 1 117\n",
      "C#6 I 1 118\n",
      "D5 IV6 1 118\n",
      "B5 IV6 1 118\n",
      "D5 IV 2 21\n",
      "C#5 IV 2 21\n",
      "F#5 IV 2 21\n",
      "D4 IV 2 21\n",
      "A5 IV 2 21\n",
      "E5 IV 2 21\n",
      "C#5 I6b5 2 22\n",
      "B4 I6b5 2 22\n",
      "A4 I6b5 2 22\n",
      "E5 I6b5 2 22\n",
      "A5 I6b5 2 22\n",
      "F#4 IV 2 23\n",
      "G5 IV 2 23\n",
      "E4 IV 2 23\n",
      "F#5 ii6 2 23\n",
      "D4 ii6 2 23\n",
      "B5 ii6 2 23\n",
      "G4 ii6 2 24\n",
      "G5 v 2 24\n",
      "E5 v 2 24\n",
      "A5 I64b3 2 24\n",
      "A4 I64b3 2 24\n",
      "E5 VI75#3 3 31\n",
      "F#5 VI75#3 3 31\n",
      "G5 VI75#3 3 31\n",
      "D5 ii64 3 31\n",
      "F#4 ii64 3 31\n",
      "B4 ii64 3 31\n",
      "A4 ii64 3 31\n",
      "G#4 vii/o7 3 31\n",
      "D5 vii/o7 3 31\n",
      "E5 vii/o7 3 31\n",
      "F#5 vii/o7 3 31\n",
      "C#5 V 3 31\n",
      "B4 V 3 31\n",
      "A#4 VI75#3 3 31\n",
      "A5 V 3 32\n",
      "F#4 V 3 32\n",
      "G#5 iii6 3 32\n",
      "E4 iii6 3 32\n",
      "C#6 iii6 3 32\n",
      "A4 iii6 3 32\n",
      "A5 vi 3 32\n",
      "F#5 vi 3 32\n",
      "B5 II#643 3 32\n",
      "B4 II#643 3 32\n",
      "E5 V 3 32\n",
      "G#4 V 3 32\n"
     ]
    }
   ],
   "source": [
    "bigDict = {}\n",
    "smallDict = {}\n",
    "with open(\"../graphs/rn.net.tree\") as tree:\n",
    "    for line in tree:\n",
    "        spl = line.split('\"')\n",
    "        node = spl[1]\n",
    "        path = spl[0].split(':')\n",
    "        bigGroup=path[0]\n",
    "        smallGroup=path[0]+path[1]\n",
    "        #print(node, bigGroup, smallGroup)\n",
    "        bigDict[node]=bigGroup\n",
    "        smallDict[node]=smallGroup\n",
    "        \n",
    "        \n",
    "        "
   ]
  },
  {
   "cell_type": "code",
   "execution_count": 29,
   "metadata": {},
   "outputs": [],
   "source": [
    "nx.set_node_attributes(g_info, bigDict, 'bigGroup')\n",
    "nx.set_node_attributes(g_info, smallDict, 'smallGroup')"
   ]
  },
  {
   "cell_type": "code",
   "execution_count": 30,
   "metadata": {},
   "outputs": [],
   "source": [
    "nx.write_gexf(g_info, \"../graphs/rn_info.gexf\")"
   ]
  },
  {
   "cell_type": "code",
   "execution_count": 16,
   "metadata": {},
   "outputs": [
    {
     "data": {
      "text/plain": [
       "NodeView(())"
      ]
     },
     "execution_count": 16,
     "metadata": {},
     "output_type": "execute_result"
    }
   ],
   "source": [
    "g_info.nodes"
   ]
  },
  {
   "cell_type": "code",
   "execution_count": 15,
   "metadata": {},
   "outputs": [],
   "source": [
    "nx.write_gexf(g_info, \"../graphs/rn_info_multi.gexf\")"
   ]
  },
  {
   "cell_type": "code",
   "execution_count": null,
   "metadata": {},
   "outputs": [],
   "source": [
    "\n",
    "g_undirected = nx.Graph(g_weighted)\n",
    "import linkcom\n",
    "e2c, S, D, Dlist = linkcom.cluster(g_undirected, is_weighted=True)\n",
    "nx.set_edge_attributes(g_undirected, e2c, \"linkcom\")\n",
    "nx.write_gexf(g_undirected, \"rn_linkcomm.gexf\")"
   ]
  }
 ],
 "metadata": {
  "kernelspec": {
   "display_name": "music-network-kernel",
   "language": "python",
   "name": "music-network-kernel"
  },
  "language_info": {
   "codemirror_mode": {
    "name": "ipython",
    "version": 3
   },
   "file_extension": ".py",
   "mimetype": "text/x-python",
   "name": "python",
   "nbconvert_exporter": "python",
   "pygments_lexer": "ipython3",
   "version": "3.7.6"
  }
 },
 "nbformat": 4,
 "nbformat_minor": 2
}
