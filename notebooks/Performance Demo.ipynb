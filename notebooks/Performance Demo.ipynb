{
 "cells": [
  {
   "cell_type": "code",
   "execution_count": 31,
   "metadata": {},
   "outputs": [
    {
     "name": "stdout",
     "output_type": "stream",
     "text": [
      "Ready\n",
      "Length of composition:  86\n"
     ]
    }
   ],
   "source": [
    "\n",
    "import socket\n",
    "import mnet\n",
    "import networkx as nx\n",
    "\n",
    "\n",
    "'''\n",
    "Create Sockets\n",
    "'''\n",
    "\n",
    "UDP_IP = \"127.0.0.1\"\n",
    "UDP_PORT = 5005\n",
    "\n",
    "sock = socket.socket(socket.AF_INET, # Internet\n",
    "                     socket.SOCK_DGRAM) # UDP\n",
    "sock.bind((UDP_IP, UDP_PORT))\n",
    "print(\"Ready\")\n",
    "\n",
    "\n",
    "\n",
    "lst=[]\n",
    "\n",
    "\n",
    "keepGoing=True\n",
    "while keepGoing:\n",
    "    data, addr = sock.recvfrom(1024) # buffer size is 1024 bytes\n",
    "    data_readable=str(data, 'utf-8')\n",
    "\n",
    "    message = str(data).split(sep='\\\\x00')\n",
    "    #print(\"received message:\", message)\n",
    "\n",
    "    if message[15] == \"stop\":\n",
    "        keepGoing = False\n",
    "\n",
    "    lst.append(message)\n",
    "\n",
    "\n",
    "notelst = []\n",
    "i=0\n",
    "while i < len(lst)-1:\n",
    "    message = lst[i]\n",
    "    message = list(filter(None, message))\n",
    "    pitch = int(message[4])\n",
    "    #print(pitch)\n",
    "    notelst.append(pitch)\n",
    "\n",
    "    i += 1\n",
    "\n",
    "\n",
    "nodelst_basic=notelst\n",
    "g_basic=mnet.create_graph(nodelst_basic)\n",
    "\n",
    "#write as .gexf\n",
    "#nx.write_gexf(g_basic, \"demo.gexf\")\n",
    "randomwalk_basic=mnet.generate_randomwalk(g_basic)\n",
    "print(\"Length of composition: \", len(randomwalk_basic))     \n",
    "\n",
    "\n",
    "host = \"localhost\"\n",
    "port = 7400\n",
    "#print(type(buf))\n",
    "addr = (host, port)\n",
    "\n",
    "#Sending String\n",
    "UDPSock = socket.socket(socket.AF_INET, socket.SOCK_DGRAM)\n",
    "\n",
    "OSC_ADDRESS = \"/1/xyz\\0\\0\"\n",
    "OSC_TYPE_TAG = \",s\\0\\0\"\n",
    "\n",
    "for note in randomwalk_basic:\n",
    "    ARG1=str(note)+\"\\0\\0\"\n",
    "    encoded_message=(OSC_ADDRESS+OSC_TYPE_TAG+ARG1).encode()\n",
    "    UDPSock.sendto(encoded_message, (host, port))\n",
    "    #print(\"sent \", note)\n",
    "# Close socket\n",
    "UDPSock.close()\n",
    "sock.close()"
   ]
  },
  {
   "cell_type": "code",
   "execution_count": 2,
   "metadata": {},
   "outputs": [
    {
     "name": "stdout",
     "output_type": "stream",
     "text": [
      "[56, 57, 58, 59, 60, 61, 62]\n"
     ]
    }
   ],
   "source": [
    "print(notelst)"
   ]
  },
  {
   "cell_type": "code",
   "execution_count": 3,
   "metadata": {},
   "outputs": [
    {
     "name": "stdout",
     "output_type": "stream",
     "text": [
      "[56, 57, 58, 59, 60, 61, 62]\n"
     ]
    }
   ],
   "source": [
    "\n"
   ]
  },
  {
   "cell_type": "code",
   "execution_count": 4,
   "metadata": {},
   "outputs": [
    {
     "data": {
      "text/plain": [
       "NodeView((56, 57, 58, 59, 60, 61, 62, 'start', 'end'))"
      ]
     },
     "execution_count": 4,
     "metadata": {},
     "output_type": "execute_result"
    }
   ],
   "source": [
    "g_basic.nodes"
   ]
  },
  {
   "cell_type": "code",
   "execution_count": 21,
   "metadata": {},
   "outputs": [],
   "source": [
    "\n",
    "host = \"localhost\"\n",
    "port = 7400\n",
    "#print(type(buf))\n",
    "addr = (host, port)\n",
    "UDPSock = socket.socket(socket.AF_INET, socket.SOCK_DGRAM)\n",
    "\n",
    "OSC_ADDRESS = \"/1/xyz\\0\\0\"\n",
    "OSC_TYPE_TAG = \",s\\0\\0\"\n",
    "\n",
    "for note in randomwalk_basic:\n",
    "    ARG1=str(note)+\"\\0\\0\"\n",
    "    encoded_message=(OSC_ADDRESS+OSC_TYPE_TAG+ARG1).encode()\n",
    "    UDPSock.sendto(encoded_message, (host, port))\n",
    "# Close socket\n",
    "UDPSock.close()\n"
   ]
  },
  {
   "cell_type": "code",
   "execution_count": null,
   "metadata": {},
   "outputs": [],
   "source": [
    "x[14]"
   ]
  },
  {
   "cell_type": "code",
   "execution_count": null,
   "metadata": {},
   "outputs": [],
   "source": [
    "x[16]"
   ]
  },
  {
   "cell_type": "code",
   "execution_count": null,
   "metadata": {},
   "outputs": [],
   "source": [
    "print(data_readable)"
   ]
  },
  {
   "cell_type": "code",
   "execution_count": 25,
   "metadata": {},
   "outputs": [
    {
     "name": "stdout",
     "output_type": "stream",
     "text": [
      "executed\n"
     ]
    },
    {
     "ename": "KeyboardInterrupt",
     "evalue": "",
     "output_type": "error",
     "traceback": [
      "\u001b[0;31m---------------------------------------------------------------------------\u001b[0m",
      "\u001b[0;31mKeyboardInterrupt\u001b[0m                         Traceback (most recent call last)",
      "\u001b[0;32m<ipython-input-25-3bed1816be1b>\u001b[0m in \u001b[0;36m<module>\u001b[0;34m\u001b[0m\n\u001b[1;32m     15\u001b[0m \u001b[0mkeepGoing\u001b[0m\u001b[0;34m=\u001b[0m\u001b[0;32mTrue\u001b[0m\u001b[0;34m\u001b[0m\u001b[0;34m\u001b[0m\u001b[0m\n\u001b[1;32m     16\u001b[0m \u001b[0;32mwhile\u001b[0m \u001b[0mkeepGoing\u001b[0m\u001b[0;34m:\u001b[0m\u001b[0;34m\u001b[0m\u001b[0;34m\u001b[0m\u001b[0m\n\u001b[0;32m---> 17\u001b[0;31m     \u001b[0mdata\u001b[0m\u001b[0;34m,\u001b[0m \u001b[0maddr\u001b[0m \u001b[0;34m=\u001b[0m \u001b[0msock\u001b[0m\u001b[0;34m.\u001b[0m\u001b[0mrecvfrom\u001b[0m\u001b[0;34m(\u001b[0m\u001b[0;36m1024\u001b[0m\u001b[0;34m)\u001b[0m \u001b[0;31m# buffer size is 1024 bytes\u001b[0m\u001b[0;34m\u001b[0m\u001b[0;34m\u001b[0m\u001b[0m\n\u001b[0m\u001b[1;32m     18\u001b[0m     \u001b[0mdata_readable\u001b[0m\u001b[0;34m=\u001b[0m\u001b[0mstr\u001b[0m\u001b[0;34m(\u001b[0m\u001b[0mdata\u001b[0m\u001b[0;34m,\u001b[0m \u001b[0;34m'utf-8'\u001b[0m\u001b[0;34m)\u001b[0m\u001b[0;34m\u001b[0m\u001b[0;34m\u001b[0m\u001b[0m\n\u001b[1;32m     19\u001b[0m \u001b[0;34m\u001b[0m\u001b[0m\n",
      "\u001b[0;31mKeyboardInterrupt\u001b[0m: "
     ]
    }
   ],
   "source": [
    "#Works with Version 1\n",
    "import socket\n",
    "import queue\n",
    "\n",
    "lst=[]\n",
    "q = queue.Queue(maxsize=0)\n",
    "UDP_IP = \"127.0.0.1\"\n",
    "UDP_PORT = 5005\n",
    "\n",
    "sock = socket.socket(socket.AF_INET, # Internet\n",
    "                     socket.SOCK_DGRAM) # UDP\n",
    "sock.bind((UDP_IP, UDP_PORT))\n",
    "print(\"executed\")\n",
    "\n",
    "keepGoing=True\n",
    "while keepGoing:\n",
    "    data, addr = sock.recvfrom(1024) # buffer size is 1024 bytes\n",
    "    data_readable=str(data, 'utf-8')\n",
    "\n",
    "    message = str(data).split(sep='\\\\x00')\n",
    "    print(\"received message:\", message)\n",
    "\n",
    "    if message[14] == \"stop\":\n",
    "        keepGoing = False\n",
    "    q.put(message)\n",
    "    lst.append(message)\n",
    "\n",
    "\n",
    "notedict = {0:\"C\", 1:\"C#\", 2:\"D\", 3:\"D#\", 4:\"E\", 5:\"F\", 6:\"F#\", 7:\"G\", 8:\"G#\", 9:\"A\", 10: \"A#\", 11:\"B\" }\n",
    "notelst = []\n",
    "i=0\n",
    "while i < len(lst)-1:\n",
    "    message = lst[i]\n",
    "    message = list(filter(None, message))\n",
    "    pitch = int(message[4])\n",
    "    octave = message[5]\n",
    "    print(pitch, \" \", octave)\n",
    "    if octave != \"0\" and pitch != -1 : \n",
    "        notelst.append(notedict[pitch]+\" \"+octave)\n",
    "    \n",
    "    i += 1\n",
    "print(notelst)\n",
    "        "
   ]
  },
  {
   "cell_type": "code",
   "execution_count": null,
   "metadata": {},
   "outputs": [],
   "source": []
  }
 ],
 "metadata": {
  "kernelspec": {
   "display_name": "music-network-kernel",
   "language": "python",
   "name": "music-network-kernel"
  },
  "language_info": {
   "codemirror_mode": {
    "name": "ipython",
    "version": 3
   },
   "file_extension": ".py",
   "mimetype": "text/x-python",
   "name": "python",
   "nbconvert_exporter": "python",
   "pygments_lexer": "ipython3",
   "version": "3.7.6"
  }
 },
 "nbformat": 4,
 "nbformat_minor": 2
}
