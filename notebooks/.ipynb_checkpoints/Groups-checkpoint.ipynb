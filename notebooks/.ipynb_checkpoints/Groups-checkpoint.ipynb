{
 "cells": [
  {
   "cell_type": "markdown",
   "metadata": {},
   "source": [
    "# Load Data"
   ]
  },
  {
   "cell_type": "code",
   "execution_count": 1,
   "metadata": {},
   "outputs": [],
   "source": [
    "import music21\n",
    "import networkx as nx\n",
    "import matplotlib.pyplot as plt\n",
    "import numpy as np\n",
    "import mnet"
   ]
  },
  {
   "cell_type": "markdown",
   "metadata": {},
   "source": [
    "Create path to access local files"
   ]
  },
  {
   "cell_type": "code",
   "execution_count": 2,
   "metadata": {},
   "outputs": [
    {
     "name": "stderr",
     "output_type": "stream",
     "text": [
      "/opt/anaconda3/lib/python3.7/site-packages/music21/corpus/corpora.py: WARNING: local metadata cache: starting processing of paths: 2\n",
      "/opt/anaconda3/lib/python3.7/site-packages/music21/corpus/corpora.py: WARNING: cache: filename: /var/folders/j6/2q7hftds7vb8_lsfy50l8lzw0000gn/T/music21/local.p.gz\n",
      "bundles.py: WARNING: MetadataBundle Modification Time: 1595358849.6480854\n",
      "bundles.py: WARNING: Skipped 2 sources already in cache.\n",
      "/opt/anaconda3/lib/python3.7/site-packages/music21/corpus/corpora.py: WARNING: cache: writing time: 0.015 md items: 2\n",
      "\n",
      "/opt/anaconda3/lib/python3.7/site-packages/music21/corpus/corpora.py: WARNING: cache: filename: /var/folders/j6/2q7hftds7vb8_lsfy50l8lzw0000gn/T/music21/local.p.gz\n",
      "caching.py: WARNING: cache: final writing time: 0.016 seconds\n"
     ]
    }
   ],
   "source": [
    "'''\n",
    "Creat local corpus with access pieces\n",
    "'''\n",
    "\n",
    "localCorpus = music21.corpus.corpora.LocalCorpus()\n",
    "localCorpus.addPath('../library')\n",
    "music21.corpus.cacheMetadata()"
   ]
  },
  {
   "cell_type": "markdown",
   "metadata": {},
   "source": [
    "Save Telemann Fantasie No. 1 as a stream object"
   ]
  },
  {
   "cell_type": "code",
   "execution_count": 3,
   "metadata": {},
   "outputs": [],
   "source": [
    "s = music21.corpus.parse('telemannfantasie1.xml')"
   ]
  },
  {
   "cell_type": "markdown",
   "metadata": {},
   "source": [
    "Inspect stream to see where desired parts are located"
   ]
  },
  {
   "cell_type": "markdown",
   "metadata": {},
   "source": [
    "Save Solo Flute part"
   ]
  },
  {
   "cell_type": "code",
   "execution_count": 4,
   "metadata": {},
   "outputs": [],
   "source": [
    "flute = s[5]"
   ]
  },
  {
   "cell_type": "markdown",
   "metadata": {},
   "source": [
    "# Discreet Sections Pipeline"
   ]
  },
  {
   "cell_type": "markdown",
   "metadata": {},
   "source": [
    "Define groups as list where each entry is the measure that a new section starts. Need the last entry to be \"end\""
   ]
  },
  {
   "cell_type": "code",
   "execution_count": 5,
   "metadata": {},
   "outputs": [],
   "source": [
    "flute_notes =flute.recurse().notes"
   ]
  },
  {
   "cell_type": "code",
   "execution_count": 6,
   "metadata": {},
   "outputs": [],
   "source": [
    "grouping = [1, 5, 11, 27, 37, 49, 61, 75, \"end\"]"
   ]
  },
  {
   "cell_type": "markdown",
   "metadata": {},
   "source": [
    "Use the convert_grouping function to convert note list and groups into a list of nodes. Will also return list of section-transition edges"
   ]
  },
  {
   "cell_type": "code",
   "execution_count": 7,
   "metadata": {},
   "outputs": [],
   "source": [
    "def convert_grouping(lst, grouping):\n",
    "    convert_note = lambda x: x.name+str(x.octave)\n",
    "    pitchdict = {}\n",
    "    nodelst=[] #list to store nodes\n",
    "    #add first node\n",
    "    transition_lst=[]\n",
    "    i=0\n",
    "    g=0\n",
    "    node_group=grouping[g]\n",
    "    while i < len(lst):\n",
    "        note = lst[i]\n",
    "        node_id = convert_note(note)\n",
    "        #print(getMeasureFromNote(note))\n",
    "        if mnet.getMeasureFromNote(note) == str(grouping[g]):\n",
    "            node_group = grouping[g]\n",
    "            g+=1\n",
    "            if i !=0:\n",
    "                transition_lst.append((nodelst[i-1],\\\n",
    "                     str(node_group)+\" \"+str(node_id)))\n",
    "        node = str(node_group)+\" \"+str(node_id)\n",
    "        nodelst.append(node)\n",
    "        pitchdict[node]= str(node_id)\n",
    "        i +=1\n",
    "    return nodelst, transition_lst, pitchdict"
   ]
  },
  {
   "cell_type": "code",
   "execution_count": 8,
   "metadata": {},
   "outputs": [],
   "source": [
    "nodelst_group, transition_edges, pitchdict = mnet.convert_grouping(flute_notes, grouping)\n"
   ]
  },
  {
   "cell_type": "markdown",
   "metadata": {},
   "source": [
    "Create Graph"
   ]
  },
  {
   "cell_type": "code",
   "execution_count": 9,
   "metadata": {},
   "outputs": [],
   "source": [
    "g_group=mnet.create_graph(nodelst_group)\n",
    "#Write to .gexf\n",
    "#nx.write_gexf(g, \"grouped_composition.gexf\")"
   ]
  },
  {
   "cell_type": "code",
   "execution_count": 10,
   "metadata": {},
   "outputs": [],
   "source": [
    "g_group = mnet.convert_to_weighted(g_group, fraction = False)"
   ]
  },
  {
   "cell_type": "code",
   "execution_count": 11,
   "metadata": {},
   "outputs": [],
   "source": [
    "nx.set_node_attributes(g_group, pitchdict, \"pitch\")"
   ]
  },
  {
   "cell_type": "code",
   "execution_count": null,
   "metadata": {},
   "outputs": [],
   "source": []
  },
  {
   "cell_type": "markdown",
   "metadata": {},
   "source": [
    "See json"
   ]
  },
  {
   "cell_type": "code",
   "execution_count": 12,
   "metadata": {},
   "outputs": [
    {
     "data": {
      "text/plain": [
       "{'directed': True,\n",
       " 'multigraph': False,\n",
       " 'graph': {},\n",
       " 'nodes': [{'pitch': 'A4', 'id': '1 A4'},\n",
       "  {'pitch': 'B4', 'id': '1 B4'},\n",
       "  {'pitch': 'E4', 'id': '1 E4'},\n",
       "  {'pitch': 'C#5', 'id': '1 C#5'},\n",
       "  {'pitch': 'E5', 'id': '1 E5'},\n",
       "  {'pitch': 'A5', 'id': '1 A5'},\n",
       "  {'pitch': 'D5', 'id': '5 D5'},\n",
       "  {'pitch': 'D5', 'id': '1 D5'},\n",
       "  {'pitch': 'F#5', 'id': '1 F#5'},\n",
       "  {'pitch': 'G#5', 'id': '1 G#5'},\n",
       "  {'pitch': 'C#5', 'id': '5 C#5'},\n",
       "  {'pitch': 'F#5', 'id': '5 F#5'},\n",
       "  {'pitch': 'A5', 'id': '5 A5'},\n",
       "  {'pitch': 'B4', 'id': '5 B4'},\n",
       "  {'pitch': 'E5', 'id': '5 E5'},\n",
       "  {'pitch': 'D4', 'id': '5 D4'},\n",
       "  {'pitch': 'A4', 'id': '5 A4'},\n",
       "  {'pitch': 'G#4', 'id': '5 G#4'},\n",
       "  {'pitch': 'G#5', 'id': '5 G#5'},\n",
       "  {'pitch': 'E4', 'id': '5 E4'},\n",
       "  {'pitch': 'B5', 'id': '5 B5'},\n",
       "  {'pitch': 'D#4', 'id': '5 D#4'},\n",
       "  {'pitch': 'A4', 'id': '11 A4'},\n",
       "  {'pitch': 'D5', 'id': '11 D5'},\n",
       "  {'pitch': 'C#5', 'id': '11 C#5'},\n",
       "  {'pitch': 'E5', 'id': '11 E5'},\n",
       "  {'pitch': 'A5', 'id': '11 A5'},\n",
       "  {'pitch': 'G#4', 'id': '11 G#4'},\n",
       "  {'pitch': 'B4', 'id': '11 B4'},\n",
       "  {'pitch': 'G4', 'id': '11 G4'},\n",
       "  {'pitch': 'D4', 'id': '11 D4'},\n",
       "  {'pitch': 'C#6', 'id': '11 C#6'},\n",
       "  {'pitch': 'G5', 'id': '11 G5'},\n",
       "  {'pitch': 'A5', 'id': '27 A5'},\n",
       "  {'pitch': 'F#4', 'id': '11 F#4'},\n",
       "  {'pitch': 'F#5', 'id': '11 F#5'},\n",
       "  {'pitch': 'E4', 'id': '11 E4'},\n",
       "  {'pitch': 'B5', 'id': '11 B5'},\n",
       "  {'pitch': 'A#4', 'id': '11 A#4'},\n",
       "  {'pitch': 'G#5', 'id': '11 G#5'},\n",
       "  {'pitch': 'E5', 'id': '27 E5'},\n",
       "  {'pitch': 'C#5', 'id': '27 C#5'},\n",
       "  {'pitch': 'F#5', 'id': '27 F#5'},\n",
       "  {'pitch': 'G#4', 'id': '27 G#4'},\n",
       "  {'pitch': 'F#4', 'id': '27 F#4'},\n",
       "  {'pitch': 'E4', 'id': '27 E4'},\n",
       "  {'pitch': 'D#4', 'id': '27 D#4'},\n",
       "  {'pitch': 'B5', 'id': '27 B5'},\n",
       "  {'pitch': 'D5', 'id': '27 D5'},\n",
       "  {'pitch': 'A4', 'id': '27 A4'},\n",
       "  {'pitch': 'B4', 'id': '27 B4'},\n",
       "  {'pitch': 'D#5', 'id': '27 D#5'},\n",
       "  {'pitch': 'G5', 'id': '27 G5'},\n",
       "  {'pitch': 'C#5', 'id': '37 C#5'},\n",
       "  {'pitch': 'D5', 'id': '37 D5'},\n",
       "  {'pitch': 'B4', 'id': '37 B4'},\n",
       "  {'pitch': 'F#5', 'id': '37 F#5'},\n",
       "  {'pitch': 'E5', 'id': '37 E5'},\n",
       "  {'pitch': 'E4', 'id': '37 E4'},\n",
       "  {'pitch': 'D#5', 'id': '37 D#5'},\n",
       "  {'pitch': 'F#4', 'id': '37 F#4'},\n",
       "  {'pitch': 'G#4', 'id': '37 G#4'},\n",
       "  {'pitch': 'A4', 'id': '37 A4'},\n",
       "  {'pitch': 'C#5', 'id': '49 C#5'},\n",
       "  {'pitch': 'G#5', 'id': '37 G#5'},\n",
       "  {'pitch': 'A5', 'id': '37 A5'},\n",
       "  {'pitch': 'D5', 'id': '49 D5'},\n",
       "  {'pitch': 'B4', 'id': '49 B4'},\n",
       "  {'pitch': 'F#5', 'id': '49 F#5'},\n",
       "  {'pitch': 'E5', 'id': '49 E5'},\n",
       "  {'pitch': 'E4', 'id': '49 E4'},\n",
       "  {'pitch': 'D#5', 'id': '49 D#5'},\n",
       "  {'pitch': 'F#4', 'id': '49 F#4'},\n",
       "  {'pitch': 'G#4', 'id': '49 G#4'},\n",
       "  {'pitch': 'A4', 'id': '49 A4'},\n",
       "  {'pitch': 'D5', 'id': '61 D5'},\n",
       "  {'pitch': 'G#5', 'id': '49 G#5'},\n",
       "  {'pitch': 'A5', 'id': '49 A5'},\n",
       "  {'pitch': 'E5', 'id': '61 E5'},\n",
       "  {'pitch': 'C#5', 'id': '61 C#5'},\n",
       "  {'pitch': 'B4', 'id': '61 B4'},\n",
       "  {'pitch': 'A5', 'id': '61 A5'},\n",
       "  {'pitch': 'F#5', 'id': '61 F#5'},\n",
       "  {'pitch': 'A4', 'id': '61 A4'},\n",
       "  {'pitch': 'E4', 'id': '61 E4'},\n",
       "  {'pitch': 'D5', 'id': '75 D5'},\n",
       "  {'pitch': 'G#5', 'id': '61 G#5'},\n",
       "  {'pitch': 'G#4', 'id': '61 G#4'},\n",
       "  {'pitch': 'E5', 'id': '75 E5'},\n",
       "  {'pitch': 'C#5', 'id': '75 C#5'},\n",
       "  {'pitch': 'B4', 'id': '75 B4'},\n",
       "  {'pitch': 'A5', 'id': '75 A5'},\n",
       "  {'pitch': 'F#5', 'id': '75 F#5'},\n",
       "  {'pitch': 'A4', 'id': '75 A4'},\n",
       "  {'pitch': 'E4', 'id': '75 E4'},\n",
       "  {'id': 'end'},\n",
       "  {'pitch': 'G#5', 'id': '75 G#5'},\n",
       "  {'pitch': 'G#4', 'id': '75 G#4'},\n",
       "  {'id': 'start'}],\n",
       " 'links': [{'weight': 1, 'source': '1 A4', 'target': '1 A4'},\n",
       "  {'weight': 3, 'source': '1 A4', 'target': '1 B4'},\n",
       "  {'weight': 5, 'source': '1 A4', 'target': '1 E4'},\n",
       "  {'weight': 2, 'source': '1 A4', 'target': '1 C#5'},\n",
       "  {'weight': 2, 'source': '1 A4', 'target': '1 E5'},\n",
       "  {'weight': 2, 'source': '1 A4', 'target': '1 A5'},\n",
       "  {'weight': 1, 'source': '1 A4', 'target': '5 D5'},\n",
       "  {'weight': 2, 'source': '1 B4', 'target': '1 A4'},\n",
       "  {'weight': 3, 'source': '1 B4', 'target': '1 C#5'},\n",
       "  {'weight': 5, 'source': '1 E4', 'target': '1 A4'},\n",
       "  {'weight': 5, 'source': '1 C#5', 'target': '1 A4'},\n",
       "  {'weight': 3, 'source': '1 C#5', 'target': '1 D5'},\n",
       "  {'weight': 1, 'source': '1 C#5', 'target': '1 E5'},\n",
       "  {'weight': 1, 'source': '1 E5', 'target': '1 A4'},\n",
       "  {'weight': 3, 'source': '1 E5', 'target': '1 F#5'},\n",
       "  {'weight': 4, 'source': '1 E5', 'target': '1 C#5'},\n",
       "  {'weight': 2, 'source': '1 A5', 'target': '1 E5'},\n",
       "  {'weight': 1, 'source': '1 A5', 'target': '1 A4'},\n",
       "  {'weight': 2, 'source': '5 D5', 'target': '5 C#5'},\n",
       "  {'weight': 1, 'source': '5 D5', 'target': '5 F#5'},\n",
       "  {'weight': 1, 'source': '5 D5', 'target': '5 A5'},\n",
       "  {'weight': 3, 'source': '1 D5', 'target': '1 E5'},\n",
       "  {'weight': 2, 'source': '1 D5', 'target': '1 B4'},\n",
       "  {'weight': 2, 'source': '1 F#5', 'target': '1 D5'},\n",
       "  {'weight': 1, 'source': '1 F#5', 'target': '1 G#5'},\n",
       "  {'weight': 1, 'source': '1 G#5', 'target': '1 A5'},\n",
       "  {'weight': 1, 'source': '5 C#5', 'target': '5 D5'},\n",
       "  {'weight': 9, 'source': '5 C#5', 'target': '5 B4'},\n",
       "  {'weight': 1, 'source': '5 C#5', 'target': '5 E5'},\n",
       "  {'weight': 2, 'source': '5 C#5', 'target': '5 A5'},\n",
       "  {'weight': 1, 'source': '5 C#5', 'target': '5 D4'},\n",
       "  {'weight': 1, 'source': '5 C#5', 'target': '5 A4'},\n",
       "  {'weight': 1, 'source': '5 F#5', 'target': '5 D5'},\n",
       "  {'weight': 2, 'source': '5 F#5', 'target': '5 C#5'},\n",
       "  {'weight': 1, 'source': '5 A5', 'target': '5 D5'},\n",
       "  {'weight': 3, 'source': '5 A5', 'target': '5 C#5'},\n",
       "  {'weight': 1, 'source': '5 A5', 'target': '5 E5'},\n",
       "  {'weight': 1, 'source': '5 B4', 'target': '5 C#5'},\n",
       "  {'weight': 8, 'source': '5 B4', 'target': '5 A4'},\n",
       "  {'weight': 2, 'source': '5 B4', 'target': '5 G#4'},\n",
       "  {'weight': 2, 'source': '5 B4', 'target': '5 G#5'},\n",
       "  {'weight': 2, 'source': '5 E5', 'target': '5 C#5'},\n",
       "  {'weight': 2, 'source': '5 E5', 'target': '5 B4'},\n",
       "  {'weight': 2, 'source': '5 E5', 'target': '5 E4'},\n",
       "  {'weight': 1, 'source': '5 E5', 'target': '5 B5'},\n",
       "  {'weight': 2, 'source': '5 D4', 'target': '5 C#5'},\n",
       "  {'weight': 2, 'source': '5 A4', 'target': '5 F#5'},\n",
       "  {'weight': 1, 'source': '5 A4', 'target': '5 D4'},\n",
       "  {'weight': 2, 'source': '5 A4', 'target': '5 D#4'},\n",
       "  {'weight': 2, 'source': '5 A4', 'target': '5 A5'},\n",
       "  {'weight': 1, 'source': '5 A4', 'target': '5 E4'},\n",
       "  {'weight': 1, 'source': '5 A4', 'target': '5 C#5'},\n",
       "  {'weight': 1, 'source': '5 A4', 'target': '5 E5'},\n",
       "  {'weight': 2, 'source': '5 G#4', 'target': '5 B4'},\n",
       "  {'weight': 2, 'source': '5 G#4', 'target': '5 E5'},\n",
       "  {'weight': 2, 'source': '5 G#5', 'target': '5 E5'},\n",
       "  {'weight': 2, 'source': '5 E4', 'target': '5 G#4'},\n",
       "  {'weight': 1, 'source': '5 E4', 'target': '5 A4'},\n",
       "  {'weight': 1, 'source': '5 E4', 'target': '11 A4'},\n",
       "  {'weight': 1, 'source': '5 B5', 'target': '5 E4'},\n",
       "  {'weight': 2, 'source': '5 D#4', 'target': '5 C#5'},\n",
       "  {'weight': 2, 'source': '11 A4', 'target': '11 D5'},\n",
       "  {'weight': 4, 'source': '11 A4', 'target': '11 C#5'},\n",
       "  {'weight': 1, 'source': '11 A4', 'target': '11 E5'},\n",
       "  {'weight': 1, 'source': '11 A4', 'target': '11 A5'},\n",
       "  {'weight': 1, 'source': '11 A4', 'target': '11 G#4'},\n",
       "  {'weight': 1, 'source': '11 A4', 'target': '11 B4'},\n",
       "  {'weight': 1, 'source': '11 A4', 'target': '11 G4'},\n",
       "  {'weight': 1, 'source': '11 A4', 'target': '11 D4'},\n",
       "  {'weight': 1, 'source': '11 A4', 'target': '11 C#6'},\n",
       "  {'weight': 1, 'source': '11 A4', 'target': '11 G5'},\n",
       "  {'weight': 1, 'source': '11 A4', 'target': '27 A5'},\n",
       "  {'weight': 11, 'source': '11 D5', 'target': '11 C#5'},\n",
       "  {'weight': 2, 'source': '11 D5', 'target': '11 B4'},\n",
       "  {'weight': 2, 'source': '11 D5', 'target': '11 F#4'},\n",
       "  {'weight': 3, 'source': '11 D5', 'target': '11 E5'},\n",
       "  {'weight': 3, 'source': '11 D5', 'target': '11 F#5'},\n",
       "  {'weight': 1, 'source': '11 D5', 'target': '11 D4'},\n",
       "  {'weight': 1, 'source': '11 D5', 'target': '11 A5'},\n",
       "  {'weight': 3, 'source': '11 D5', 'target': '11 A4'},\n",
       "  {'weight': 1, 'source': '11 D5', 'target': '11 E4'},\n",
       "  {'weight': 2, 'source': '11 D5', 'target': '11 B5'},\n",
       "  {'weight': 1, 'source': '11 C#5', 'target': '11 F#5'},\n",
       "  {'weight': 8, 'source': '11 C#5', 'target': '11 B4'},\n",
       "  {'weight': 1, 'source': '11 C#5', 'target': '11 G4'},\n",
       "  {'weight': 8, 'source': '11 C#5', 'target': '11 D5'},\n",
       "  {'weight': 1, 'source': '11 C#5', 'target': '11 E5'},\n",
       "  {'weight': 1, 'source': '11 C#5', 'target': '11 A4'},\n",
       "  {'weight': 3, 'source': '11 C#5', 'target': '11 A5'},\n",
       "  {'weight': 1, 'source': '11 C#5', 'target': '11 G#4'},\n",
       "  {'weight': 2, 'source': '11 C#5', 'target': '11 F#4'},\n",
       "  {'weight': 2, 'source': '11 E5', 'target': '11 E4'},\n",
       "  {'weight': 2, 'source': '11 E5', 'target': '11 G#4'},\n",
       "  {'weight': 2, 'source': '11 E5', 'target': '11 F#5'},\n",
       "  {'weight': 3, 'source': '11 E5', 'target': '11 D5'},\n",
       "  {'weight': 1, 'source': '11 E5', 'target': '11 A5'},\n",
       "  {'weight': 1, 'source': '11 E5', 'target': '11 C#5'},\n",
       "  {'weight': 2, 'source': '11 E5', 'target': '11 G#5'},\n",
       "  {'weight': 1, 'source': '11 A5', 'target': '11 F#4'},\n",
       "  {'weight': 3, 'source': '11 A5', 'target': '11 F#5'},\n",
       "  {'weight': 1, 'source': '11 A5', 'target': '11 A4'},\n",
       "  {'weight': 3, 'source': '11 A5', 'target': '11 D5'},\n",
       "  {'weight': 1, 'source': '11 A5', 'target': '11 C#5'},\n",
       "  {'weight': 2, 'source': '11 A5', 'target': '11 G#5'},\n",
       "  {'weight': 1, 'source': '11 G#4', 'target': '11 A5'},\n",
       "  {'weight': 1, 'source': '11 G#4', 'target': '11 C#5'},\n",
       "  {'weight': 2, 'source': '11 G#4', 'target': '11 D5'},\n",
       "  {'weight': 3, 'source': '11 B4', 'target': '11 E5'},\n",
       "  {'weight': 3, 'source': '11 B4', 'target': '11 A4'},\n",
       "  {'weight': 1, 'source': '11 B4', 'target': '11 A#4'},\n",
       "  {'weight': 6, 'source': '11 B4', 'target': '11 C#5'},\n",
       "  {'weight': 1, 'source': '11 B4', 'target': '11 D5'},\n",
       "  {'weight': 1, 'source': '11 G4', 'target': '11 A4'},\n",
       "  {'weight': 1, 'source': '11 G4', 'target': '11 D5'},\n",
       "  {'weight': 1, 'source': '11 G4', 'target': '11 G5'},\n",
       "  {'weight': 3, 'source': '11 D4', 'target': '11 B5'},\n",
       "  {'weight': 2, 'source': '11 D4', 'target': '11 D5'},\n",
       "  {'weight': 1, 'source': '11 C#6', 'target': '11 A4'},\n",
       "  {'weight': 1, 'source': '11 C#6', 'target': '11 D5'},\n",
       "  {'weight': 1, 'source': '11 G5', 'target': '11 F#5'},\n",
       "  {'weight': 1, 'source': '11 G5', 'target': '11 E4'},\n",
       "  {'weight': 1, 'source': '11 G5', 'target': '11 E5'},\n",
       "  {'weight': 1, 'source': '11 G5', 'target': '11 D5'},\n",
       "  {'weight': 2, 'source': '27 A5', 'target': '27 A5'},\n",
       "  {'weight': 2, 'source': '27 A5', 'target': '27 E5'},\n",
       "  {'weight': 1, 'source': '27 A5', 'target': '27 C#5'},\n",
       "  {'weight': 2, 'source': '27 A5', 'target': '27 F#5'},\n",
       "  {'weight': 1, 'source': '27 A5', 'target': '27 G#4'},\n",
       "  {'weight': 1, 'source': '27 A5', 'target': '27 F#4'},\n",
       "  {'weight': 1, 'source': '27 A5', 'target': '27 E4'},\n",
       "  {'weight': 1, 'source': '27 A5', 'target': '27 D#4'},\n",
       "  {'weight': 1, 'source': '11 F#4', 'target': '11 G#5'},\n",
       "  {'weight': 1, 'source': '11 F#4', 'target': '11 B4'},\n",
       "  {'weight': 1, 'source': '11 F#4', 'target': '11 G5'},\n",
       "  {'weight': 2, 'source': '11 F#4', 'target': '11 D4'},\n",
       "  {'weight': 2, 'source': '11 F#5', 'target': '11 D5'},\n",
       "  {'weight': 1, 'source': '11 F#5', 'target': '11 B5'},\n",
       "  {'weight': 1, 'source': '11 F#5', 'target': '11 G5'},\n",
       "  {'weight': 2, 'source': '11 F#5', 'target': '11 E5'},\n",
       "  {'weight': 1, 'source': '11 F#5', 'target': '11 D4'},\n",
       "  {'weight': 2, 'source': '11 F#5', 'target': '11 A5'},\n",
       "  {'weight': 1, 'source': '11 F#5', 'target': '11 B4'},\n",
       "  {'weight': 1, 'source': '11 F#5', 'target': '11 C#5'},\n",
       "  {'weight': 2, 'source': '11 E4', 'target': '11 A4'},\n",
       "  {'weight': 1, 'source': '11 E4', 'target': '11 C#6'},\n",
       "  {'weight': 1, 'source': '11 E4', 'target': '11 F#5'},\n",
       "  {'weight': 2, 'source': '11 E4', 'target': '11 D5'},\n",
       "  {'weight': 1, 'source': '11 E4', 'target': '11 G#5'},\n",
       "  {'weight': 1, 'source': '11 B5', 'target': '11 B4'},\n",
       "  {'weight': 1, 'source': '11 B5', 'target': '11 G4'},\n",
       "  {'weight': 1, 'source': '11 B5', 'target': '11 D5'},\n",
       "  {'weight': 1, 'source': '11 B5', 'target': '11 C#5'},\n",
       "  {'weight': 1, 'source': '11 B5', 'target': '11 E4'},\n",
       "  {'weight': 1, 'source': '11 B5', 'target': '11 E5'},\n",
       "  {'weight': 1, 'source': '11 A#4', 'target': '11 E5'},\n",
       "  {'weight': 2, 'source': '11 G#5', 'target': '11 E4'},\n",
       "  {'weight': 2, 'source': '11 G#5', 'target': '11 A4'},\n",
       "  {'weight': 2, 'source': '11 G#5', 'target': '11 A5'},\n",
       "  {'weight': 10, 'source': '27 E5', 'target': '27 C#5'},\n",
       "  {'weight': 4, 'source': '27 E5', 'target': '27 E5'},\n",
       "  {'weight': 2, 'source': '27 E5', 'target': '27 F#5'},\n",
       "  {'weight': 1, 'source': '27 E5', 'target': '27 B5'},\n",
       "  {'weight': 2, 'source': '27 E5', 'target': '27 F#4'},\n",
       "  {'weight': 2, 'source': '27 E5', 'target': '27 D5'},\n",
       "  {'weight': 2, 'source': '27 E5', 'target': '27 A5'},\n",
       "  {'weight': 1, 'source': '27 E5', 'target': '27 A4'},\n",
       "  {'weight': 1, 'source': '27 E5', 'target': '27 G#4'},\n",
       "  {'weight': 1, 'source': '27 E5', 'target': '27 E4'},\n",
       "  {'weight': 6, 'source': '27 C#5', 'target': '27 E5'},\n",
       "  {'weight': 4, 'source': '27 C#5', 'target': '27 A4'},\n",
       "  {'weight': 6, 'source': '27 C#5', 'target': '27 D5'},\n",
       "  {'weight': 3, 'source': '27 C#5', 'target': '27 B4'},\n",
       "  {'weight': 2, 'source': '27 C#5', 'target': '27 A5'},\n",
       "  {'weight': 1, 'source': '27 C#5', 'target': '27 C#5'},\n",
       "  {'weight': 1, 'source': '27 C#5', 'target': '27 E4'},\n",
       "  {'weight': 1, 'source': '27 C#5', 'target': '27 D#5'},\n",
       "  {'weight': 1, 'source': '27 F#5', 'target': '27 C#5'},\n",
       "  {'weight': 10, 'source': '27 F#5', 'target': '27 D#5'},\n",
       "  {'weight': 2, 'source': '27 F#5', 'target': '27 F#5'},\n",
       "  {'weight': 2, 'source': '27 F#5', 'target': '27 E5'},\n",
       "  {'weight': 1, 'source': '27 G#4', 'target': '27 D5'},\n",
       "  {'weight': 1, 'source': '27 G#4', 'target': '27 C#5'},\n",
       "  {'weight': 1, 'source': '27 G#4', 'target': '27 B4'},\n",
       "  {'weight': 1, 'source': '27 F#4', 'target': '27 D5'},\n",
       "  {'weight': 1, 'source': '27 F#4', 'target': '27 C#5'},\n",
       "  {'weight': 1, 'source': '27 F#4', 'target': '27 A4'},\n",
       "  {'weight': 1, 'source': '27 E4', 'target': '27 C#5'},\n",
       "  {'weight': 1, 'source': '27 E4', 'target': '27 B4'},\n",
       "  {'weight': 1, 'source': '27 E4', 'target': '37 C#5'},\n",
       "  {'weight': 1, 'source': '27 D#4', 'target': '27 C#5'},\n",
       "  {'weight': 1, 'source': '27 B5', 'target': '27 B5'},\n",
       "  {'weight': 2, 'source': '27 B5', 'target': '27 F#5'},\n",
       "  {'weight': 1, 'source': '27 B5', 'target': '27 D#5'},\n",
       "  {'weight': 4, 'source': '27 D5', 'target': '27 D5'},\n",
       "  {'weight': 2, 'source': '27 D5', 'target': '27 E5'},\n",
       "  {'weight': 1, 'source': '27 D5', 'target': '27 A5'},\n",
       "  {'weight': 1, 'source': '27 D5', 'target': '27 B5'},\n",
       "  {'weight': 2, 'source': '27 D5', 'target': '27 C#5'},\n",
       "  {'weight': 2, 'source': '27 D5', 'target': '27 F#5'},\n",
       "  {'weight': 1, 'source': '27 D5', 'target': '27 G#4'},\n",
       "  {'weight': 1, 'source': '27 D5', 'target': '27 A4'},\n",
       "  {'weight': 1, 'source': '27 A4', 'target': '27 A5'},\n",
       "  {'weight': 2, 'source': '27 A4', 'target': '27 G5'},\n",
       "  {'weight': 1, 'source': '27 A4', 'target': '27 F#5'},\n",
       "  {'weight': 2, 'source': '27 A4', 'target': '27 C#5'},\n",
       "  {'weight': 1, 'source': '27 A4', 'target': '27 D#5'},\n",
       "  {'weight': 1, 'source': '27 B4', 'target': '27 B5'},\n",
       "  {'weight': 2, 'source': '27 B4', 'target': '27 A5'},\n",
       "  {'weight': 1, 'source': '27 B4', 'target': '27 G5'},\n",
       "  {'weight': 3, 'source': '27 B4', 'target': '27 C#5'},\n",
       "  {'weight': 2, 'source': '27 B4', 'target': '27 D#5'},\n",
       "  {'weight': 4, 'source': '27 D#5', 'target': '27 F#5'},\n",
       "  {'weight': 4, 'source': '27 D#5', 'target': '27 B4'},\n",
       "  {'weight': 8, 'source': '27 D#5', 'target': '27 E5'},\n",
       "  {'weight': 1, 'source': '27 G5', 'target': '27 G5'},\n",
       "  {'weight': 2, 'source': '27 G5', 'target': '27 E5'},\n",
       "  {'weight': 1, 'source': '27 G5', 'target': '27 D#5'},\n",
       "  {'weight': 3, 'source': '37 C#5', 'target': '37 D5'},\n",
       "  {'weight': 1, 'source': '37 C#5', 'target': '37 B4'},\n",
       "  {'weight': 2, 'source': '37 C#5', 'target': '37 F#5'},\n",
       "  {'weight': 1, 'source': '37 C#5', 'target': '37 E5'},\n",
       "  {'weight': 1, 'source': '37 D5', 'target': '37 E5'},\n",
       "  {'weight': 1, 'source': '37 D5', 'target': '37 B4'},\n",
       "  {'weight': 1, 'source': '37 D5', 'target': '37 E4'},\n",
       "  {'weight': 1, 'source': '37 D5', 'target': '37 D5'},\n",
       "  {'weight': 1, 'source': '37 D5', 'target': '37 C#5'},\n",
       "  {'weight': 3, 'source': '37 B4', 'target': '37 A4'},\n",
       "  {'weight': 2, 'source': '37 B4', 'target': '37 C#5'},\n",
       "  {'weight': 2, 'source': '37 B4', 'target': '37 E5'},\n",
       "  {'weight': 1, 'source': '37 F#5', 'target': '37 G#5'},\n",
       "  {'weight': 1, 'source': '37 F#5', 'target': '37 E5'},\n",
       "  {'weight': 1, 'source': '37 F#5', 'target': '37 D#5'},\n",
       "  {'weight': 1, 'source': '37 E5', 'target': '37 C#5'},\n",
       "  {'weight': 4, 'source': '37 E5', 'target': '37 D#5'},\n",
       "  {'weight': 1, 'source': '37 E5', 'target': '37 F#5'},\n",
       "  {'weight': 2, 'source': '37 E5', 'target': '37 F#4'},\n",
       "  {'weight': 3, 'source': '37 E5', 'target': '37 E4'},\n",
       "  {'weight': 1, 'source': '37 E5', 'target': '37 G#4'},\n",
       "  {'weight': 1, 'source': '37 E4', 'target': '37 D5'},\n",
       "  {'weight': 2, 'source': '37 E4', 'target': '37 G#4'},\n",
       "  {'weight': 1, 'source': '37 E4', 'target': '37 A4'},\n",
       "  {'weight': 1, 'source': '37 E4', 'target': '49 C#5'},\n",
       "  {'weight': 5, 'source': '37 D#5', 'target': '37 E5'},\n",
       "  {'weight': 1, 'source': '37 D#5', 'target': '37 B4'},\n",
       "  {'weight': 1, 'source': '37 D#5', 'target': '37 E4'},\n",
       "  {'weight': 2, 'source': '37 F#4', 'target': '37 D#5'},\n",
       "  {'weight': 1, 'source': '37 G#4', 'target': '37 A4'},\n",
       "  {'weight': 2, 'source': '37 G#4', 'target': '37 E5'},\n",
       "  {'weight': 2, 'source': '37 G#4', 'target': '37 B4'},\n",
       "  {'weight': 2, 'source': '37 A4', 'target': '37 B4'},\n",
       "  {'weight': 2, 'source': '37 A4', 'target': '37 G#4'},\n",
       "  {'weight': 1, 'source': '37 A4', 'target': '37 C#5'},\n",
       "  {'weight': 3, 'source': '49 C#5', 'target': '49 D5'},\n",
       "  {'weight': 1, 'source': '49 C#5', 'target': '49 B4'},\n",
       "  {'weight': 2, 'source': '49 C#5', 'target': '49 F#5'},\n",
       "  {'weight': 1, 'source': '49 C#5', 'target': '49 E5'},\n",
       "  {'weight': 1, 'source': '37 G#5', 'target': '37 A5'},\n",
       "  {'weight': 1, 'source': '37 A5', 'target': '37 C#5'},\n",
       "  {'weight': 1, 'source': '49 D5', 'target': '49 E5'},\n",
       "  {'weight': 1, 'source': '49 D5', 'target': '49 B4'},\n",
       "  {'weight': 1, 'source': '49 D5', 'target': '49 E4'},\n",
       "  {'weight': 1, 'source': '49 D5', 'target': '49 D5'},\n",
       "  {'weight': 1, 'source': '49 D5', 'target': '49 C#5'},\n",
       "  {'weight': 3, 'source': '49 B4', 'target': '49 A4'},\n",
       "  {'weight': 2, 'source': '49 B4', 'target': '49 C#5'},\n",
       "  {'weight': 2, 'source': '49 B4', 'target': '49 E5'},\n",
       "  {'weight': 1, 'source': '49 F#5', 'target': '49 G#5'},\n",
       "  {'weight': 1, 'source': '49 F#5', 'target': '49 E5'},\n",
       "  {'weight': 1, 'source': '49 F#5', 'target': '49 D#5'},\n",
       "  {'weight': 1, 'source': '49 E5', 'target': '49 C#5'},\n",
       "  {'weight': 4, 'source': '49 E5', 'target': '49 D#5'},\n",
       "  {'weight': 1, 'source': '49 E5', 'target': '49 F#5'},\n",
       "  {'weight': 2, 'source': '49 E5', 'target': '49 F#4'},\n",
       "  {'weight': 3, 'source': '49 E5', 'target': '49 E4'},\n",
       "  {'weight': 1, 'source': '49 E5', 'target': '49 G#4'},\n",
       "  {'weight': 1, 'source': '49 E4', 'target': '49 D5'},\n",
       "  {'weight': 2, 'source': '49 E4', 'target': '49 G#4'},\n",
       "  {'weight': 1, 'source': '49 E4', 'target': '49 A4'},\n",
       "  {'weight': 1, 'source': '49 E4', 'target': '61 D5'},\n",
       "  {'weight': 5, 'source': '49 D#5', 'target': '49 E5'},\n",
       "  {'weight': 1, 'source': '49 D#5', 'target': '49 B4'},\n",
       "  {'weight': 1, 'source': '49 D#5', 'target': '49 E4'},\n",
       "  {'weight': 2, 'source': '49 F#4', 'target': '49 D#5'},\n",
       "  {'weight': 1, 'source': '49 G#4', 'target': '49 A4'},\n",
       "  {'weight': 2, 'source': '49 G#4', 'target': '49 E5'},\n",
       "  {'weight': 2, 'source': '49 G#4', 'target': '49 B4'},\n",
       "  {'weight': 2, 'source': '49 A4', 'target': '49 B4'},\n",
       "  {'weight': 2, 'source': '49 A4', 'target': '49 G#4'},\n",
       "  {'weight': 1, 'source': '49 A4', 'target': '49 C#5'},\n",
       "  {'weight': 3, 'source': '61 D5', 'target': '61 E5'},\n",
       "  {'weight': 3, 'source': '61 D5', 'target': '61 C#5'},\n",
       "  {'weight': 1, 'source': '61 D5', 'target': '61 B4'},\n",
       "  {'weight': 2, 'source': '61 D5', 'target': '61 A5'},\n",
       "  {'weight': 1, 'source': '61 D5', 'target': '61 F#5'},\n",
       "  {'weight': 1, 'source': '49 G#5', 'target': '49 A5'},\n",
       "  {'weight': 1, 'source': '49 A5', 'target': '49 C#5'},\n",
       "  {'weight': 3, 'source': '61 E5', 'target': '61 F#5'},\n",
       "  {'weight': 2, 'source': '61 E5', 'target': '61 C#5'},\n",
       "  {'weight': 2, 'source': '61 E5', 'target': '61 A5'},\n",
       "  {'weight': 5, 'source': '61 C#5', 'target': '61 D5'},\n",
       "  {'weight': 5, 'source': '61 C#5', 'target': '61 B4'},\n",
       "  {'weight': 2, 'source': '61 C#5', 'target': '61 E5'},\n",
       "  {'weight': 2, 'source': '61 B4', 'target': '61 C#5'},\n",
       "  {'weight': 4, 'source': '61 B4', 'target': '61 A4'},\n",
       "  {'weight': 2, 'source': '61 B4', 'target': '61 E4'},\n",
       "  {'weight': 5, 'source': '61 A5', 'target': '61 G#5'},\n",
       "  {'weight': 2, 'source': '61 A5', 'target': '61 C#5'},\n",
       "  {'weight': 2, 'source': '61 A5', 'target': '61 A4'},\n",
       "  {'weight': 1, 'source': '61 A5', 'target': '61 F#5'},\n",
       "  {'weight': 3, 'source': '61 F#5', 'target': '61 D5'},\n",
       "  {'weight': 2, 'source': '61 F#5', 'target': '61 E5'},\n",
       "  {'weight': 1, 'source': '61 F#5', 'target': '61 A5'},\n",
       "  {'weight': 1, 'source': '61 A4', 'target': '61 F#5'},\n",
       "  {'weight': 2, 'source': '61 A4', 'target': '61 B4'},\n",
       "  {'weight': 3, 'source': '61 A4', 'target': '61 C#5'},\n",
       "  {'weight': 1, 'source': '61 A4', 'target': '61 D5'},\n",
       "  {'weight': 1, 'source': '61 A4', 'target': '75 D5'},\n",
       "  {'weight': 2, 'source': '61 E4', 'target': '61 G#4'},\n",
       "  {'weight': 3, 'source': '75 D5', 'target': '75 E5'},\n",
       "  {'weight': 3, 'source': '75 D5', 'target': '75 C#5'},\n",
       "  {'weight': 1, 'source': '75 D5', 'target': '75 B4'},\n",
       "  {'weight': 2, 'source': '75 D5', 'target': '75 A5'},\n",
       "  {'weight': 1, 'source': '75 D5', 'target': '75 F#5'},\n",
       "  {'weight': 5, 'source': '61 G#5', 'target': '61 A5'},\n",
       "  {'weight': 2, 'source': '61 G#4', 'target': '61 A4'},\n",
       "  {'weight': 3, 'source': '75 E5', 'target': '75 F#5'},\n",
       "  {'weight': 2, 'source': '75 E5', 'target': '75 C#5'},\n",
       "  {'weight': 2, 'source': '75 E5', 'target': '75 A5'},\n",
       "  {'weight': 5, 'source': '75 C#5', 'target': '75 D5'},\n",
       "  {'weight': 4, 'source': '75 C#5', 'target': '75 B4'},\n",
       "  {'weight': 2, 'source': '75 C#5', 'target': '75 E5'},\n",
       "  {'weight': 2, 'source': '75 B4', 'target': '75 C#5'},\n",
       "  {'weight': 3, 'source': '75 B4', 'target': '75 A4'},\n",
       "  {'weight': 2, 'source': '75 B4', 'target': '75 E4'},\n",
       "  {'weight': 5, 'source': '75 A5', 'target': '75 G#5'},\n",
       "  {'weight': 2, 'source': '75 A5', 'target': '75 C#5'},\n",
       "  {'weight': 2, 'source': '75 A5', 'target': '75 A4'},\n",
       "  {'weight': 1, 'source': '75 A5', 'target': '75 F#5'},\n",
       "  {'weight': 3, 'source': '75 F#5', 'target': '75 D5'},\n",
       "  {'weight': 2, 'source': '75 F#5', 'target': '75 E5'},\n",
       "  {'weight': 1, 'source': '75 F#5', 'target': '75 A5'},\n",
       "  {'weight': 1, 'source': '75 A4', 'target': '75 F#5'},\n",
       "  {'weight': 2, 'source': '75 A4', 'target': '75 B4'},\n",
       "  {'weight': 2, 'source': '75 A4', 'target': '75 C#5'},\n",
       "  {'weight': 1, 'source': '75 A4', 'target': '75 D5'},\n",
       "  {'weight': 1, 'source': '75 A4', 'target': 'end'},\n",
       "  {'weight': 2, 'source': '75 E4', 'target': '75 G#4'},\n",
       "  {'weight': 5, 'source': '75 G#5', 'target': '75 A5'},\n",
       "  {'weight': 2, 'source': '75 G#4', 'target': '75 A4'},\n",
       "  {'weight': 1, 'source': 'start', 'target': '1 A4'}]}"
      ]
     },
     "execution_count": 12,
     "metadata": {},
     "output_type": "execute_result"
    }
   ],
   "source": [
    "from networkx.readwrite import json_graph\n",
    "\n",
    "data = json_graph.node_link_data( g_group)\n",
    "data"
   ]
  },
  {
   "cell_type": "markdown",
   "metadata": {},
   "source": [
    "Generate Random Walk"
   ]
  },
  {
   "cell_type": "code",
   "execution_count": 9,
   "metadata": {},
   "outputs": [],
   "source": [
    "randomwalk_group=mnet.generate_randomwalk(g_group)"
   ]
  },
  {
   "cell_type": "markdown",
   "metadata": {},
   "source": [
    "Convert random walk to back to music.\n",
    "\n",
    "Uses conversion function group_strto16thnote, which takes a group pitch string and converts it to a note with length of 16th note. Notes preceeding transition edges will be half notes"
   ]
  },
  {
   "cell_type": "code",
   "execution_count": 10,
   "metadata": {},
   "outputs": [],
   "source": [
    "def convert_to_stream(notelist):\n",
    "\n",
    "    s = music21.stream.Stream()\n",
    "    for thisNote in notelist:\n",
    "        s.append(thisNote)\n",
    "    return s\n"
   ]
  },
  {
   "cell_type": "code",
   "execution_count": 11,
   "metadata": {},
   "outputs": [
    {
     "data": {
      "text/plain": [
       "'/Users/kaitlinpet/Desktop/Coursework/networks/project/xml/Forced_groups.xml'"
      ]
     },
     "execution_count": 11,
     "metadata": {},
     "output_type": "execute_result"
    }
   ],
   "source": [
    "tune = mnet.group_strto16thnote(randomwalk_group)\n",
    "new_composition_group = convert_to_stream(tune)\n",
    "#Write to MIDI\n",
    "new_composition_group.write('xml', \"../xml/Forced_groups.xml\")"
   ]
  },
  {
   "cell_type": "code",
   "execution_count": null,
   "metadata": {},
   "outputs": [],
   "source": []
  },
  {
   "cell_type": "markdown",
   "metadata": {},
   "source": [
    "## Alter Weight of Transition Nodes"
   ]
  },
  {
   "cell_type": "markdown",
   "metadata": {},
   "source": [
    "Currently all transition edges have a weight of 1. This can be altered through degree_increase()"
   ]
  },
  {
   "cell_type": "code",
   "execution_count": 13,
   "metadata": {},
   "outputs": [],
   "source": [
    "graph_adjusted1 = mnet.degree_increase(g_group, transition_edges, 2)"
   ]
  },
  {
   "cell_type": "code",
   "execution_count": 14,
   "metadata": {},
   "outputs": [
    {
     "data": {
      "text/plain": [
       "'/Users/kaitlinpet/Desktop/Coursework/networks/project/xml/Forced_groups_with_edge_alteration.xml'"
      ]
     },
     "execution_count": 14,
     "metadata": {},
     "output_type": "execute_result"
    }
   ],
   "source": [
    "randomwalk_group_adj=mnet.generate_randomwalk(graph_adjusted1)\n",
    "tune = mnet.group_strto16thnote(randomwalk_group_adj)\n",
    "new_composition_group = convert_to_stream(tune)\n",
    "#Write to MIDI\n",
    "new_composition_group.write('xml', \"../xml/Forced_groups_with_edge_alteration.xml\")"
   ]
  }
 ],
 "metadata": {
  "kernelspec": {
   "display_name": "Python 3",
   "language": "python",
   "name": "python3"
  },
  "language_info": {
   "codemirror_mode": {
    "name": "ipython",
    "version": 3
   },
   "file_extension": ".py",
   "mimetype": "text/x-python",
   "name": "python",
   "nbconvert_exporter": "python",
   "pygments_lexer": "ipython3",
   "version": "3.7.4"
  }
 },
 "nbformat": 4,
 "nbformat_minor": 2
}
