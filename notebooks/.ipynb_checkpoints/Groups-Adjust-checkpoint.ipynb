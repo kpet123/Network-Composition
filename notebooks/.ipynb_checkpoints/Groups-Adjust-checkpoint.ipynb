{
 "cells": [
  {
   "cell_type": "markdown",
   "metadata": {},
   "source": [
    "# Load Data"
   ]
  },
  {
   "cell_type": "code",
   "execution_count": 1,
   "metadata": {},
   "outputs": [
    {
     "name": "stderr",
     "output_type": "stream",
     "text": [
      "music21: Certain music21 functions might need the optional package scipy;\n",
      "                  if you run into errors, install it by following the instructions at\n",
      "                  http://mit.edu/music21/doc/installing/installAdditional.html\n"
     ]
    },
    {
     "ename": "TabError",
     "evalue": "inconsistent use of tabs and spaces in indentation (mnet.py, line 154)",
     "output_type": "error",
     "traceback": [
      "Traceback \u001b[0;36m(most recent call last)\u001b[0m:\n",
      "  File \u001b[1;32m\"/opt/anaconda3/envs/music-network-env/lib/python3.7/site-packages/IPython/core/interactiveshell.py\"\u001b[0m, line \u001b[1;32m3343\u001b[0m, in \u001b[1;35mrun_code\u001b[0m\n    exec(code_obj, self.user_global_ns, self.user_ns)\n",
      "\u001b[0;36m  File \u001b[0;32m\"<ipython-input-1-71b84216e055>\"\u001b[0;36m, line \u001b[0;32m5\u001b[0;36m, in \u001b[0;35m<module>\u001b[0;36m\u001b[0m\n\u001b[0;31m    import mnet\u001b[0m\n",
      "\u001b[0;36m  File \u001b[0;32m\"/Users/kaitlinpet/Desktop/Projects/network-composition/notebooks/mnet.py\"\u001b[0;36m, line \u001b[0;32m154\u001b[0m\n\u001b[0;31m    nx.set_node_attributes(g, pitchdict, 'pitch')\u001b[0m\n\u001b[0m                                                 ^\u001b[0m\n\u001b[0;31mTabError\u001b[0m\u001b[0;31m:\u001b[0m inconsistent use of tabs and spaces in indentation\n"
     ]
    }
   ],
   "source": [
    "import music21\n",
    "import networkx as nx\n",
    "import matplotlib.pyplot as plt\n",
    "import numpy as np\n",
    "import mnet"
   ]
  },
  {
   "cell_type": "markdown",
   "metadata": {},
   "source": [
    "Create path to access local files"
   ]
  },
  {
   "cell_type": "code",
   "execution_count": 2,
   "metadata": {},
   "outputs": [
    {
     "name": "stderr",
     "output_type": "stream",
     "text": [
      "/opt/anaconda3/envs/music-network-env/lib/python3.7/site-packages/music21/corpus/corpora.py: WARNING: local metadata cache: starting processing of paths: 2\n",
      "/opt/anaconda3/envs/music-network-env/lib/python3.7/site-packages/music21/corpus/corpora.py: WARNING: cache: filename: /var/folders/j6/2q7hftds7vb8_lsfy50l8lzw0000gn/T/music21/local.p.gz\n",
      "bundles.py: WARNING: MetadataBundle Modification Time: 1593051947.4825764\n",
      "bundles.py: WARNING: Skipped 2 sources already in cache.\n",
      "/opt/anaconda3/envs/music-network-env/lib/python3.7/site-packages/music21/corpus/corpora.py: WARNING: cache: writing time: 0.02 md items: 2\n",
      "\n",
      "/opt/anaconda3/envs/music-network-env/lib/python3.7/site-packages/music21/corpus/corpora.py: WARNING: cache: filename: /var/folders/j6/2q7hftds7vb8_lsfy50l8lzw0000gn/T/music21/local.p.gz\n",
      "caching.py: WARNING: cache: final writing time: 0.022 seconds\n"
     ]
    }
   ],
   "source": [
    "'''\n",
    "Creat local corpus with access pieces\n",
    "'''\n",
    "\n",
    "localCorpus = music21.corpus.corpora.LocalCorpus()\n",
    "localCorpus.addPath('../library')\n",
    "music21.corpus.cacheMetadata()"
   ]
  },
  {
   "cell_type": "markdown",
   "metadata": {},
   "source": [
    "Save Telemann Fantasie No. 1 as a stream object"
   ]
  },
  {
   "cell_type": "code",
   "execution_count": 3,
   "metadata": {},
   "outputs": [],
   "source": [
    "s = music21.corpus.parse('telemannfantasie1.xml')"
   ]
  },
  {
   "cell_type": "markdown",
   "metadata": {},
   "source": [
    "Inspect stream to see where desired parts are located"
   ]
  },
  {
   "cell_type": "markdown",
   "metadata": {},
   "source": [
    "Save Solo Flute part"
   ]
  },
  {
   "cell_type": "code",
   "execution_count": 4,
   "metadata": {},
   "outputs": [],
   "source": [
    "flute = s[5]"
   ]
  },
  {
   "cell_type": "markdown",
   "metadata": {},
   "source": [
    "# Discreet Sections Pipeline"
   ]
  },
  {
   "cell_type": "markdown",
   "metadata": {},
   "source": [
    "Define groups as list where each entry is the measure that a new section starts. Need the last entry to be \"end\""
   ]
  },
  {
   "cell_type": "code",
   "execution_count": 5,
   "metadata": {},
   "outputs": [],
   "source": [
    "flute_notes =flute.recurse().notes"
   ]
  },
  {
   "cell_type": "code",
   "execution_count": 6,
   "metadata": {},
   "outputs": [],
   "source": [
    "grouping = [1, 5, 11, 27, 37, 49, 61, 75, \"end\"]"
   ]
  },
  {
   "cell_type": "markdown",
   "metadata": {},
   "source": [
    "Use the convert_grouping function to convert note list and groups into a list of nodes. Will also return list of section-transition edges"
   ]
  },
  {
   "cell_type": "code",
   "execution_count": 7,
   "metadata": {},
   "outputs": [],
   "source": [
    "nodelst_group, transition_edges=mnet.convert_grouping(flute_notes, grouping)\n"
   ]
  },
  {
   "cell_type": "markdown",
   "metadata": {},
   "source": [
    "Create Graph"
   ]
  },
  {
   "cell_type": "code",
   "execution_count": 8,
   "metadata": {},
   "outputs": [],
   "source": [
    "g_group=mnet.create_graph(nodelst_group)\n",
    "#Write to .gexf\n",
    "nx.write_gexf(g_group, \"grouped_composition.gexf\")"
   ]
  },
  {
   "cell_type": "markdown",
   "metadata": {},
   "source": [
    "Generate Random Walk"
   ]
  },
  {
   "cell_type": "code",
   "execution_count": 15,
   "metadata": {},
   "outputs": [],
   "source": [
    "randomwalk_group=mnet.generate_randomwalk(g_group)"
   ]
  },
  {
   "cell_type": "markdown",
   "metadata": {},
   "source": [
    "Convert random walk to back to music.\n",
    "\n",
    "Uses conversion function group_strto16thnote, which takes a group pitch string and converts it to a note with length of 16th note. Notes preceeding transition edges will be half notes"
   ]
  },
  {
   "cell_type": "code",
   "execution_count": 16,
   "metadata": {},
   "outputs": [],
   "source": [
    "tune = mnet.group_strto16thnote(randomwalk_group)\n",
    "\n",
    "new_composition_group = mnet.convert_to_stream(tune)\n",
    "\n",
    "#Write to MIDI\n",
    "#new_composition_group.write('midi', \"new_composition_group.mid\")"
   ]
  },
  {
   "cell_type": "code",
   "execution_count": 17,
   "metadata": {},
   "outputs": [
    {
     "data": {
      "text/plain": [
       "NodeView(('1 A4', '1 B4', '1 E4', '1 C#5', '1 E5', '1 F#5', '1 D5', '1 G#5', '1 A5', '5 D5', '5 C#5', '5 F#5', '5 A5', '5 B4', '5 E5', '5 D4', '5 A4', '5 D#4', '5 E4', '5 G#4', '5 G#5', '5 B5', '11 A4', '11 D5', '11 C#5', '11 F#5', '11 B4', '11 E5', '11 E4', '11 G#4', '11 A5', '11 F#4', '11 G#5', '11 C#6', '11 B5', '11 A#4', '11 G5', '11 G4', '11 D4', '27 A5', '27 E5', '27 C#5', '27 A4', '27 G5', '27 F#5', '27 D5', '27 B5', '27 D#5', '27 B4', '27 F#4', '27 G#4', '27 E4', '27 D#4', '37 C#5', '37 D5', '37 E5', '37 B4', '37 A4', '37 G#4', '37 E4', '37 F#5', '37 G#5', '37 A5', '37 D#5', '37 F#4', '49 C#5', '49 D5', '49 E5', '49 B4', '49 A4', '49 G#4', '49 E4', '49 F#5', '49 G#5', '49 A5', '49 D#5', '49 F#4', '61 D5', '61 E5', '61 F#5', '61 C#5', '61 B4', '61 A4', '61 A5', '61 G#5', '61 E4', '61 G#4', '75 D5', '75 E5', '75 F#5', '75 C#5', '75 B4', '75 A4', '75 A5', '75 G#5', '75 E4', '75 G#4', 'start', 'end'))"
      ]
     },
     "execution_count": 17,
     "metadata": {},
     "output_type": "execute_result"
    }
   ],
   "source": [
    "g_group.nodes"
   ]
  },
  {
   "cell_type": "markdown",
   "metadata": {},
   "source": [
    "## Alter Weight of Transition Nodes"
   ]
  },
  {
   "cell_type": "markdown",
   "metadata": {},
   "source": [
    "Currently all transition edges have a weight of 1. This can be altered through degree_increase()"
   ]
  },
  {
   "cell_type": "code",
   "execution_count": 18,
   "metadata": {},
   "outputs": [
    {
     "data": {
      "text/plain": [
       "[('1 A4', '5 D5'),\n",
       " ('5 E4', '11 A4'),\n",
       " ('11 A4', '27 A5'),\n",
       " ('27 E4', '37 C#5'),\n",
       " ('37 E4', '49 C#5'),\n",
       " ('49 E4', '61 D5'),\n",
       " ('61 A4', '75 D5')]"
      ]
     },
     "execution_count": 18,
     "metadata": {},
     "output_type": "execute_result"
    }
   ],
   "source": [
    "transition_edges"
   ]
  },
  {
   "cell_type": "code",
   "execution_count": 19,
   "metadata": {},
   "outputs": [],
   "source": [
    "graph_adjusted1 = mnet.degree_increase(g_group, [transition_edges[2]], increase=10)"
   ]
  },
  {
   "cell_type": "markdown",
   "metadata": {},
   "source": [
    "The weight of the outgoing edge affects how much time the random walker will stay in a givin section. By changing this weight, you have some degree of control over how long a section will go for. "
   ]
  },
  {
   "cell_type": "markdown",
   "metadata": {},
   "source": [
    "Page Rank"
   ]
  },
  {
   "cell_type": "code",
   "execution_count": 20,
   "metadata": {},
   "outputs": [],
   "source": [
    "g_weighted = mnet.convert_to_weighted(g_group)"
   ]
  },
  {
   "cell_type": "markdown",
   "metadata": {},
   "source": [
    "Convert to json"
   ]
  },
  {
   "cell_type": "code",
   "execution_count": 22,
   "metadata": {},
   "outputs": [],
   "source": [
    "from networkx.readwrite import json_graph\n",
    "\n",
    "data = json_graph.node_link_data( mnet.convert_to_weighted(g_weighted))"
   ]
  },
  {
   "cell_type": "code",
   "execution_count": 23,
   "metadata": {},
   "outputs": [],
   "source": [
    "import json\n",
    "with open('grouped.json', 'w') as outfile:\n",
    "    json.dump(data, outfile)"
   ]
  },
  {
   "cell_type": "code",
   "execution_count": null,
   "metadata": {},
   "outputs": [],
   "source": [
    "ranking = nx.pagerank(g_weighted)"
   ]
  },
  {
   "cell_type": "code",
   "execution_count": null,
   "metadata": {},
   "outputs": [],
   "source": [
    "len(ranking)"
   ]
  },
  {
   "cell_type": "markdown",
   "metadata": {},
   "source": [
    "Module Leaving Probability\n",
    "    \n",
    "    ni : number of nodes in module i\n",
    "\n",
    "    alpha : node label\n",
    "\n",
    "    tau: probability of teleportation  --> very small could make constant\n",
    "\n",
    "    p_alpha: probability of being at node (pagerank)\n",
    "\n",
    "    w_alpha_beta : weight of link from node alpha to node beta"
   ]
  },
  {
   "cell_type": "code",
   "execution_count": null,
   "metadata": {},
   "outputs": [],
   "source": []
  },
  {
   "cell_type": "code",
   "execution_count": null,
   "metadata": {},
   "outputs": [],
   "source": [
    "def exit_probability(steps, graph, module, ranking, tau=.15):\n",
    "    n = len(graph.nodes)\n",
    "    ni = len(module.nodes)\n",
    "    \n",
    "    #teleportation term - may remove\n",
    "    sum_rank=0\n",
    "    for alpha in module.nodes:\n",
    "        sum_rank += ranking[alpha]\n",
    "        \n",
    "    #exit term\n",
    "    sum_exit_rank_weight = 0\n",
    "    for edge in graph.edges():\n",
    "        if edge[0] in module.nodes and edge[1] not in module.nodes:\n",
    "            weight=graph.get_edge_data(edge[0], edge[1])['weight']\n",
    "            print(weight)\n",
    "            print(ranking[edge[0]])\n",
    "            print(edge[0])\n",
    "            print(edge[1])\n",
    "            sum_exit_rank_weight += ranking[edge[0]] * weight\n",
    "    \n",
    "    step_exit_probability = tau * ((n-ni)/(n-1)) * sum_rank + (1-tau) * sum_exit_rank_weight\n",
    "    print('step exit probability', step_exit_probability)\n",
    "    exit_probability = step_exit_probability * ((1-step_exit_probability) ** (steps-1))\n",
    "    \n",
    "    return exit_probability\n",
    "        \n",
    "    "
   ]
  },
  {
   "cell_type": "code",
   "execution_count": null,
   "metadata": {},
   "outputs": [],
   "source": [
    "g_group = mnet.degree_increase(g_weighted, [('1 A4', '5 D5')], 30)"
   ]
  },
  {
   "cell_type": "markdown",
   "metadata": {},
   "source": [
    "Isolate Module"
   ]
  },
  {
   "cell_type": "code",
   "execution_count": null,
   "metadata": {},
   "outputs": [],
   "source": [
    "module = g_weighted.subgraph(['1 A4', \\\n",
    "        '1 B4', '1 E4', '1 C#5', '1 E5', '1 A5', \\\n",
    "                              '1 D5', '1 F#5', '1 G#5'])"
   ]
  },
  {
   "cell_type": "markdown",
   "metadata": {},
   "source": [
    "Calc pagerank -liklihood a random walker will be at a particular node"
   ]
  },
  {
   "cell_type": "code",
   "execution_count": null,
   "metadata": {},
   "outputs": [],
   "source": [
    "ranking = nx.pagerank(g_weighted)"
   ]
  },
  {
   "cell_type": "code",
   "execution_count": null,
   "metadata": {},
   "outputs": [],
   "source": [
    "ranking['5 D5']"
   ]
  },
  {
   "cell_type": "code",
   "execution_count": null,
   "metadata": {},
   "outputs": [],
   "source": [
    "exit_1=exit_probability(1, g_weighted, module, ranking, tau=.5)\n",
    "exit_1"
   ]
  },
  {
   "cell_type": "code",
   "execution_count": null,
   "metadata": {},
   "outputs": [],
   "source": [
    "exit_2=exit_probability(2, g_weighted, module, ranking, tau=.5)\n",
    "exit_2"
   ]
  },
  {
   "cell_type": "code",
   "execution_count": null,
   "metadata": {},
   "outputs": [],
   "source": [
    "exit_3=exit_probability(20, g_weighted, module, ranking, tau=.01)\n",
    "exit_3"
   ]
  },
  {
   "cell_type": "markdown",
   "metadata": {},
   "source": [
    "### Ground Truth for length probabilities"
   ]
  },
  {
   "cell_type": "markdown",
   "metadata": {},
   "source": [
    "Isolate subgraph"
   ]
  },
  {
   "cell_type": "code",
   "execution_count": null,
   "metadata": {},
   "outputs": [],
   "source": [
    "subgraph = g_group.subgraph(['1 A4', \\\n",
    "        '1 B4', '1 E4', '1 C#5', '1 E5', '1 A5', \\\n",
    "                              '1 D5', '1 F#5', '1 G#5', '5 D5'])"
   ]
  },
  {
   "cell_type": "code",
   "execution_count": null,
   "metadata": {},
   "outputs": [],
   "source": [
    "arr = mnet.gen_path_histogram(subgraph,  '1 A4',  ('1 A4', '5 D5'), outgoing_edge_weight=10, additional_depth=3)\n"
   ]
  },
  {
   "cell_type": "code",
   "execution_count": null,
   "metadata": {},
   "outputs": [],
   "source": [
    "arr"
   ]
  },
  {
   "cell_type": "code",
   "execution_count": null,
   "metadata": {},
   "outputs": [],
   "source": []
  }
 ],
 "metadata": {
  "kernelspec": {
   "display_name": "music-network-kernel",
   "language": "python",
   "name": "music-network-kernel"
  },
  "language_info": {
   "codemirror_mode": {
    "name": "ipython",
    "version": 3
   },
   "file_extension": ".py",
   "mimetype": "text/x-python",
   "name": "python",
   "nbconvert_exporter": "python",
   "pygments_lexer": "ipython3",
   "version": "3.7.6"
  }
 },
 "nbformat": 4,
 "nbformat_minor": 2
}
