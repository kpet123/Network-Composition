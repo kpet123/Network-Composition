{
 "cells": [
  {
   "cell_type": "markdown",
   "metadata": {},
   "source": [
    "# Load Data"
   ]
  },
  {
   "cell_type": "code",
   "execution_count": 1,
   "metadata": {},
   "outputs": [],
   "source": [
    "import music21\n",
    "import networkx as nx\n",
    "import matplotlib.pyplot as plt\n",
    "import numpy as np\n",
    "import mnet"
   ]
  },
  {
   "cell_type": "markdown",
   "metadata": {},
   "source": [
    "Create path to access local files"
   ]
  },
  {
   "cell_type": "code",
   "execution_count": 2,
   "metadata": {},
   "outputs": [
    {
     "name": "stderr",
     "output_type": "stream",
     "text": [
      "/opt/anaconda3/lib/python3.7/site-packages/music21/corpus/corpora.py: WARNING: local metadata cache: starting processing of paths: 1\n",
      "/opt/anaconda3/lib/python3.7/site-packages/music21/corpus/corpora.py: WARNING: cache: filename: /var/folders/j6/2q7hftds7vb8_lsfy50l8lzw0000gn/T/music21/local.p.gz\n",
      "bundles.py: WARNING: MetadataBundle Modification Time: 1589236836.2014117\n",
      "bundles.py: WARNING: Skipped 1 sources already in cache.\n",
      "/opt/anaconda3/lib/python3.7/site-packages/music21/corpus/corpora.py: WARNING: cache: writing time: 0.019 md items: 6\n",
      "\n",
      "/opt/anaconda3/lib/python3.7/site-packages/music21/corpus/corpora.py: WARNING: cache: filename: /var/folders/j6/2q7hftds7vb8_lsfy50l8lzw0000gn/T/music21/local.p.gz\n",
      "caching.py: WARNING: cache: final writing time: 0.019 seconds\n"
     ]
    }
   ],
   "source": [
    "'''\n",
    "Creat local corpus with access pieces\n",
    "'''\n",
    "\n",
    "localCorpus = music21.corpus.corpora.LocalCorpus()\n",
    "localCorpus.addPath('../library')\n",
    "music21.corpus.cacheMetadata()"
   ]
  },
  {
   "cell_type": "markdown",
   "metadata": {},
   "source": [
    "Save Telemann Fantasie No. 1 as a stream object"
   ]
  },
  {
   "cell_type": "code",
   "execution_count": 3,
   "metadata": {},
   "outputs": [],
   "source": [
    "s = music21.corpus.parse('telemannfantasie1.xml')"
   ]
  },
  {
   "cell_type": "markdown",
   "metadata": {},
   "source": [
    "Inspect stream to see where desired parts are located"
   ]
  },
  {
   "cell_type": "markdown",
   "metadata": {},
   "source": [
    "Save Solo Flute part"
   ]
  },
  {
   "cell_type": "code",
   "execution_count": 4,
   "metadata": {},
   "outputs": [],
   "source": [
    "flute = s[5]"
   ]
  },
  {
   "cell_type": "markdown",
   "metadata": {},
   "source": [
    "# Discreet Sections Pipeline"
   ]
  },
  {
   "cell_type": "markdown",
   "metadata": {},
   "source": [
    "Define groups as list where each entry is the measure that a new section starts. Need the last entry to be \"end\""
   ]
  },
  {
   "cell_type": "code",
   "execution_count": 5,
   "metadata": {},
   "outputs": [],
   "source": [
    "flute_notes =flute.recurse().notes"
   ]
  },
  {
   "cell_type": "code",
   "execution_count": 6,
   "metadata": {},
   "outputs": [],
   "source": [
    "grouping = [1, 5, 11, 27, 37, 49, 61, 75, \"end\"]"
   ]
  },
  {
   "cell_type": "markdown",
   "metadata": {},
   "source": [
    "Use the convert_grouping function to convert note list and groups into a list of nodes. Will also return list of section-transition edges"
   ]
  },
  {
   "cell_type": "code",
   "execution_count": 7,
   "metadata": {},
   "outputs": [],
   "source": [
    "nodelst_group, transition_edges=mnet.convert_grouping(flute_notes, grouping)\n"
   ]
  },
  {
   "cell_type": "markdown",
   "metadata": {},
   "source": [
    "Create Graph"
   ]
  },
  {
   "cell_type": "code",
   "execution_count": 8,
   "metadata": {},
   "outputs": [],
   "source": [
    "g_group=mnet.create_graph(nodelst_group)\n",
    "#Write to .gexf\n",
    "#nx.write_gexf(g, \"grouped_composition.gexf\")"
   ]
  },
  {
   "cell_type": "markdown",
   "metadata": {},
   "source": [
    "Generate Random Walk"
   ]
  },
  {
   "cell_type": "code",
   "execution_count": 9,
   "metadata": {},
   "outputs": [],
   "source": [
    "randomwalk_group=mnet.generate_randomwalk(g_group)"
   ]
  },
  {
   "cell_type": "markdown",
   "metadata": {},
   "source": [
    "Convert random walk to back to music.\n",
    "\n",
    "Uses conversion function group_strto16thnote, which takes a group pitch string and converts it to a note with length of 16th note. Notes preceeding transition edges will be half notes"
   ]
  },
  {
   "cell_type": "code",
   "execution_count": 10,
   "metadata": {},
   "outputs": [],
   "source": [
    "def convert_to_stream(notelist):\n",
    "\n",
    "    s = music21.stream.Stream()\n",
    "    for thisNote in notelist:\n",
    "        s.append(thisNote)\n",
    "    return s\n"
   ]
  },
  {
   "cell_type": "code",
   "execution_count": 11,
   "metadata": {},
   "outputs": [
    {
     "data": {
      "text/plain": [
       "'/Users/kaitlinpet/Desktop/Coursework/networks/project/xml/Forced_groups.xml'"
      ]
     },
     "execution_count": 11,
     "metadata": {},
     "output_type": "execute_result"
    }
   ],
   "source": [
    "tune = mnet.group_strto16thnote(randomwalk_group)\n",
    "new_composition_group = convert_to_stream(tune)\n",
    "#Write to MIDI\n",
    "new_composition_group.write('xml', \"../xml/Forced_groups.xml\")"
   ]
  },
  {
   "cell_type": "code",
   "execution_count": null,
   "metadata": {},
   "outputs": [],
   "source": []
  },
  {
   "cell_type": "markdown",
   "metadata": {},
   "source": [
    "## Alter Weight of Transition Nodes"
   ]
  },
  {
   "cell_type": "markdown",
   "metadata": {},
   "source": [
    "Currently all transition edges have a weight of 1. This can be altered through degree_increase()"
   ]
  },
  {
   "cell_type": "code",
   "execution_count": 13,
   "metadata": {},
   "outputs": [],
   "source": [
    "graph_adjusted1 = mnet.degree_increase(g_group, transition_edges, 2)"
   ]
  },
  {
   "cell_type": "code",
   "execution_count": 14,
   "metadata": {},
   "outputs": [
    {
     "data": {
      "text/plain": [
       "'/Users/kaitlinpet/Desktop/Coursework/networks/project/xml/Forced_groups_with_edge_alteration.xml'"
      ]
     },
     "execution_count": 14,
     "metadata": {},
     "output_type": "execute_result"
    }
   ],
   "source": [
    "randomwalk_group_adj=mnet.generate_randomwalk(graph_adjusted1)\n",
    "tune = mnet.group_strto16thnote(randomwalk_group_adj)\n",
    "new_composition_group = convert_to_stream(tune)\n",
    "#Write to MIDI\n",
    "new_composition_group.write('xml', \"../xml/Forced_groups_with_edge_alteration.xml\")"
   ]
  }
 ],
 "metadata": {
  "kernelspec": {
   "display_name": "Python 3",
   "language": "python",
   "name": "python3"
  },
  "language_info": {
   "codemirror_mode": {
    "name": "ipython",
    "version": 3
   },
   "file_extension": ".py",
   "mimetype": "text/x-python",
   "name": "python",
   "nbconvert_exporter": "python",
   "pygments_lexer": "ipython3",
   "version": "3.7.4"
  }
 },
 "nbformat": 4,
 "nbformat_minor": 2
}
